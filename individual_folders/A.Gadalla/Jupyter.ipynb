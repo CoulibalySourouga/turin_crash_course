{
 "cells": [
  {
   "cell_type": "code",
   "execution_count": 4,
   "metadata": {
    "vscode": {
     "languageId": "shellscript"
    }
   },
   "outputs": [
    {
     "name": "stdout",
     "output_type": "stream",
     "text": [
      "Bergen,Norway, Paris,France Turin,Italy Bordeaux,France Cairo,Egypt Gzira,Malta\n"
     ]
    }
   ],
   "source": [
    "# Assigning thevalues of the array to the variable cities_array\n",
    "\n",
    "cities_array=(Bergen,Norway, Paris,France Turin,Italy Bordeaux,France Cairo,Egypt Gzira,Malta)\n",
    "\n",
    "# Checck Array\n",
    "\n",
    "echo \"${cities_array[@]}\""
   ]
  },
  {
   "cell_type": "code",
   "execution_count": 9,
   "metadata": {
    "vscode": {
     "languageId": "shellscript"
    }
   },
   "outputs": [],
   "source": [
    "# Create a loop and print it to file\n",
    "for x in ${cities_array[@]}; do echo \"$x\">>CitiesPrint.csv;done"
   ]
  },
  {
   "cell_type": "code",
   "execution_count": 6,
   "metadata": {
    "vscode": {
     "languageId": "shellscript"
    }
   },
   "outputs": [
    {
     "name": "stdout",
     "output_type": "stream",
     "text": [
      "The student comes from Bergen,Norway,\n",
      "The student comes from Paris,France\n",
      "The student comes from Turin,Italy\n",
      "The student comes from Bordeaux,France\n",
      "The student comes from Cairo,Egypt\n",
      "The student comes from Gzira,Malta\n"
     ]
    }
   ],
   "source": [
    "while read line\n",
    " do\n",
    "   echo \"The student comes from $line\"\n",
    " done < CitiesPrint.csv"
   ]
  }
 ],
 "metadata": {
  "kernelspec": {
   "display_name": "Bash",
   "language": "bash",
   "name": "bash"
  },
  "language_info": {
   "codemirror_mode": "shell",
   "file_extension": ".sh",
   "mimetype": "text/x-sh",
   "name": "bash"
  }
 },
 "nbformat": 4,
 "nbformat_minor": 2
}
