{
 "cells": [
  {
   "cell_type": "code",
   "execution_count": 6,
   "metadata": {
    "vscode": {
     "languageId": "shellscript"
    }
   },
   "outputs": [
    {
     "name": "stdout",
     "output_type": "stream",
     "text": [
      "Bergen,Norway, Paris,France Turin,Italy Bordeaux,France Cairo,Egypt Gzira,Malta\n"
     ]
    }
   ],
   "source": [
    "# Assigning thevalues of the array to the variable cities_array\n",
    "\n",
    "cities_array=(Bergen,Norway, Paris,France Turin,Italy Bordeaux,France Cairo,Egypt Gzira,Malta)\n",
    "\n",
    "# Checck Array\n",
    "\n",
    "echo \"${cities_array[@]}\""
   ]
  },
  {
   "cell_type": "code",
   "execution_count": 7,
   "metadata": {
    "vscode": {
     "languageId": "shellscript"
    }
   },
   "outputs": [
    {
     "name": "stdout",
     "output_type": "stream",
     "text": [
      "Bergen,Norway,\n",
      "Paris,France\n",
      "Turin,Italy\n",
      "Bordeaux,France\n",
      "Cairo,Egypt\n",
      "Gzira,Malta\n"
     ]
    }
   ],
   "source": [
    "# Create a loop and print it\n",
    "for x in ${cities_array[@]}; do echo \"$x\"; done"
   ]
  },
  {
   "cell_type": "code",
   "execution_count": 1,
   "metadata": {
    "vscode": {
     "languageId": "shellscript"
    }
   },
   "outputs": [],
   "source": [
    "for I in ${cities_array[@]}; \n",
    "do echo \"$I\" >/workspaces/turin_crash_course/individual_folders/A.Gadalla.Print Test.csv;done"
   ]
  }
 ],
 "metadata": {
  "kernelspec": {
   "display_name": "Bash",
   "language": "bash",
   "name": "bash"
  },
  "language_info": {
   "codemirror_mode": "shell",
   "file_extension": ".sh",
   "mimetype": "text/x-sh",
   "name": "bash"
  }
 },
 "nbformat": 4,
 "nbformat_minor": 2
}
