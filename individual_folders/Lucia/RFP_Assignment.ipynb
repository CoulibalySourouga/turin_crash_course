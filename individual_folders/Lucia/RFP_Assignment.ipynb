{
 "cells": [
  {
   "cell_type": "markdown",
   "metadata": {},
   "source": [
    "# RFP Project Assignment "
   ]
  },
  {
   "cell_type": "code",
   "execution_count": 8,
   "metadata": {
    "vscode": {
     "languageId": "shellscript"
    }
   },
   "outputs": [
    {
     "name": "stdout",
     "output_type": "stream",
     "text": [
      "São_Paulo,Brazil Buenos_Aires,Argentina Santiago,Chile Lima,Peru Mumbai,India Kerala,India New_Delhi,India Lagos,Nigeria Nairobi,Kenya Lusaka,Zambia\n"
     ]
    }
   ],
   "source": [
    "# assigning the values of the array to the variable cities_array\n",
    "cities_array=(São_Paulo,Brazil Buenos_Aires,Argentina Santiago,Chile Lima,Peru Mumbai,India Kerala,India New_Delhi,India Lagos,Nigeria Nairobi,Kenya Lusaka,Zambia)\n",
    "# check the array has been assigned properly\n",
    "echo \"${cities_array[@]}\""
   ]
  },
  {
   "cell_type": "code",
   "execution_count": 9,
   "metadata": {
    "vscode": {
     "languageId": "shellscript"
    }
   },
   "outputs": [
    {
     "name": "stdout",
     "output_type": "stream",
     "text": [
      "São_Paulo,Brazil\n",
      "Buenos_Aires,Argentina\n",
      "Santiago,Chile\n",
      "Lima,Peru\n",
      "Mumbai,India\n",
      "Kerala,India\n",
      "New_Delhi,India\n",
      "Lagos,Nigeria\n",
      "Nairobi,Kenya\n",
      "Lusaka,Zambia\n"
     ]
    }
   ],
   "source": [
    "# create a loop that iterates over cities_array and print it\n",
    "for x in ${cities_array[@]}\n",
    "do \n",
    "    echo \"$x\"\n",
    "done"
   ]
  },
  {
   "cell_type": "code",
   "execution_count": 10,
   "metadata": {
    "vscode": {
     "languageId": "shellscript"
    }
   },
   "outputs": [],
   "source": [
    "#Insert all the information in the file with a loop\n",
    "for i in ${cities_array[@]}\n",
    "do \n",
    "    echo \"$i\" >> RFP_Assignment.csv \n",
    "done "
   ]
  },
  {
   "cell_type": "code",
   "execution_count": 11,
   "metadata": {
    "vscode": {
     "languageId": "shellscript"
    }
   },
   "outputs": [
    {
     "name": "stdout",
     "output_type": "stream",
     "text": [
      "São_Paulo,Brazil\n",
      "Buenos_Aires,Argentina\n",
      "Santiago,Chile\n",
      "Lima,Peru\n",
      "Mumbai,India\n",
      "Kerala,India\n",
      "New_Delhi,India\n",
      "Lagos,Nigeria\n",
      "Nairobi,Kenya\n",
      "Lusaka,Zambia\n"
     ]
    }
   ],
   "source": [
    "# Check the file has been successfully created\n",
    "cat RFP_Assignment.csv "
   ]
  },
  {
   "cell_type": "code",
   "execution_count": 12,
   "metadata": {
    "vscode": {
     "languageId": "shellscript"
    }
   },
   "outputs": [
    {
     "name": "stdout",
     "output_type": "stream",
     "text": [
      "[{\"place_id\":382959739,\"licence\":\"Data © OpenStreetMap contributors, ODbL 1.0. http://osm.org/copyright\",\"osm_type\":\"relation\",\"osm_id\":298285,\"lat\":\"-23.5506507\",\"lon\":\"-46.6333824\",\"class\":\"boundary\",\"type\":\"administrative\",\"place_rank\":16,\"importance\":0.6861749119420276,\"addresstype\":\"municipality\",\"name\":\"São Paulo\",\"display_name\":\"São Paulo, Região Imediata de São Paulo, Região Metropolitana de São Paulo, Região Geográfica Intermediária de São Paulo, São Paulo, Região Sudeste, Brasil\",\"boundingbox\":[\"-24.0079003\",\"-23.3577551\",\"-46.8262692\",\"-46.3650898\"]},{\"place_id\":43892689,\"licence\":\"Data © OpenStreetMap contributors, ODbL 1.0. http://osm.org/copyright\",\"osm_type\":\"relation\",\"osm_id\":298204,\"lat\":\"-22.0702705\",\"lon\":\"-48.4333875\",\"class\":\"boundary\",\"type\":\"administrative\",\"place_rank\":8,\"importance\":0.6738413187081659,\"addresstype\":\"state\",\"name\":\"São Paulo\",\"display_name\":\"São Paulo, Região Sudeste, Brasil\",\"boundingbox\":[\"-25.4895759\",\"-19.7823272\",\"-53.1090000\",\"-44.1613652\"]},{\"place_id\":46684202,\"licence\":\"Data © OpenStreetMap contributors, ODbL 1.0. http://osm.org/copyright\",\"osm_type\":\"node\",\"osm_id\":5390979124,\"lat\":\"-1.2043218\",\"lon\":\"-47.1583944\",\"class\":\"place\",\"type\":\"suburb\",\"place_rank\":19,\"importance\":0.6861749119420276,\"addresstype\":\"suburb\",\"name\":\"São Paulo\",\"display_name\":\"São Paulo, Capanema, Região Geográfica Imediata de Capanema, Região Geográfica Intermediária de Castanhal, Pará, Região Norte, 68700-540, Brasil\",\"boundingbox\":[\"-1.2243218\",\"-1.1843218\",\"-47.1783944\",\"-47.1383944\"]}]\n"
     ]
    }
   ],
   "source": [
    "curl \"https://nominatim.openstreetmap.org/search?q=Sao+Paulo,Brazil&format=json\" "
   ]
  },
  {
   "cell_type": "code",
   "execution_count": 14,
   "metadata": {
    "vscode": {
     "languageId": "shellscript"
    }
   },
   "outputs": [
    {
     "name": "stdout",
     "output_type": "stream",
     "text": [
      "\u001b[1;39m[\n",
      "  \u001b[1;39m{\n",
      "    \u001b[0m\u001b[34;1m\"place_id\"\u001b[0m\u001b[1;39m: \u001b[0m\u001b[0;39m382959739\u001b[0m\u001b[1;39m,\n",
      "    \u001b[0m\u001b[34;1m\"licence\"\u001b[0m\u001b[1;39m: \u001b[0m\u001b[0;32m\"Data © OpenStreetMap contributors, ODbL 1.0. http://osm.org/copyright\"\u001b[0m\u001b[1;39m,\n",
      "    \u001b[0m\u001b[34;1m\"osm_type\"\u001b[0m\u001b[1;39m: \u001b[0m\u001b[0;32m\"relation\"\u001b[0m\u001b[1;39m,\n",
      "    \u001b[0m\u001b[34;1m\"osm_id\"\u001b[0m\u001b[1;39m: \u001b[0m\u001b[0;39m298285\u001b[0m\u001b[1;39m,\n",
      "    \u001b[0m\u001b[34;1m\"lat\"\u001b[0m\u001b[1;39m: \u001b[0m\u001b[0;32m\"-23.5506507\"\u001b[0m\u001b[1;39m,\n",
      "    \u001b[0m\u001b[34;1m\"lon\"\u001b[0m\u001b[1;39m: \u001b[0m\u001b[0;32m\"-46.6333824\"\u001b[0m\u001b[1;39m,\n",
      "    \u001b[0m\u001b[34;1m\"class\"\u001b[0m\u001b[1;39m: \u001b[0m\u001b[0;32m\"boundary\"\u001b[0m\u001b[1;39m,\n",
      "    \u001b[0m\u001b[34;1m\"type\"\u001b[0m\u001b[1;39m: \u001b[0m\u001b[0;32m\"administrative\"\u001b[0m\u001b[1;39m,\n",
      "    \u001b[0m\u001b[34;1m\"place_rank\"\u001b[0m\u001b[1;39m: \u001b[0m\u001b[0;39m16\u001b[0m\u001b[1;39m,\n",
      "    \u001b[0m\u001b[34;1m\"importance\"\u001b[0m\u001b[1;39m: \u001b[0m\u001b[0;39m0.6861749119420276\u001b[0m\u001b[1;39m,\n",
      "    \u001b[0m\u001b[34;1m\"addresstype\"\u001b[0m\u001b[1;39m: \u001b[0m\u001b[0;32m\"municipality\"\u001b[0m\u001b[1;39m,\n",
      "    \u001b[0m\u001b[34;1m\"name\"\u001b[0m\u001b[1;39m: \u001b[0m\u001b[0;32m\"São Paulo\"\u001b[0m\u001b[1;39m,\n",
      "    \u001b[0m\u001b[34;1m\"display_name\"\u001b[0m\u001b[1;39m: \u001b[0m\u001b[0;32m\"São Paulo, Região Imediata de São Paulo, Região Metropolitana de São Paulo, Região Geográfica Intermediária de São Paulo, São Paulo, Região Sudeste, Brasil\"\u001b[0m\u001b[1;39m,\n",
      "    \u001b[0m\u001b[34;1m\"boundingbox\"\u001b[0m\u001b[1;39m: \u001b[0m\u001b[1;39m[\n",
      "      \u001b[0;32m\"-24.0079003\"\u001b[0m\u001b[1;39m,\n",
      "      \u001b[0;32m\"-23.3577551\"\u001b[0m\u001b[1;39m,\n",
      "      \u001b[0;32m\"-46.8262692\"\u001b[0m\u001b[1;39m,\n",
      "      \u001b[0;32m\"-46.3650898\"\u001b[0m\u001b[1;39m\n",
      "    \u001b[1;39m]\u001b[0m\u001b[1;39m\n",
      "  \u001b[1;39m}\u001b[0m\u001b[1;39m,\n",
      "  \u001b[1;39m{\n",
      "    \u001b[0m\u001b[34;1m\"place_id\"\u001b[0m\u001b[1;39m: \u001b[0m\u001b[0;39m43892689\u001b[0m\u001b[1;39m,\n",
      "    \u001b[0m\u001b[34;1m\"licence\"\u001b[0m\u001b[1;39m: \u001b[0m\u001b[0;32m\"Data © OpenStreetMap contributors, ODbL 1.0. http://osm.org/copyright\"\u001b[0m\u001b[1;39m,\n",
      "    \u001b[0m\u001b[34;1m\"osm_type\"\u001b[0m\u001b[1;39m: \u001b[0m\u001b[0;32m\"relation\"\u001b[0m\u001b[1;39m,\n",
      "    \u001b[0m\u001b[34;1m\"osm_id\"\u001b[0m\u001b[1;39m: \u001b[0m\u001b[0;39m298204\u001b[0m\u001b[1;39m,\n",
      "    \u001b[0m\u001b[34;1m\"lat\"\u001b[0m\u001b[1;39m: \u001b[0m\u001b[0;32m\"-22.0702705\"\u001b[0m\u001b[1;39m,\n",
      "    \u001b[0m\u001b[34;1m\"lon\"\u001b[0m\u001b[1;39m: \u001b[0m\u001b[0;32m\"-48.4333875\"\u001b[0m\u001b[1;39m,\n",
      "    \u001b[0m\u001b[34;1m\"class\"\u001b[0m\u001b[1;39m: \u001b[0m\u001b[0;32m\"boundary\"\u001b[0m\u001b[1;39m,\n",
      "    \u001b[0m\u001b[34;1m\"type\"\u001b[0m\u001b[1;39m: \u001b[0m\u001b[0;32m\"administrative\"\u001b[0m\u001b[1;39m,\n",
      "    \u001b[0m\u001b[34;1m\"place_rank\"\u001b[0m\u001b[1;39m: \u001b[0m\u001b[0;39m8\u001b[0m\u001b[1;39m,\n",
      "    \u001b[0m\u001b[34;1m\"importance\"\u001b[0m\u001b[1;39m: \u001b[0m\u001b[0;39m0.6738413187081659\u001b[0m\u001b[1;39m,\n",
      "    \u001b[0m\u001b[34;1m\"addresstype\"\u001b[0m\u001b[1;39m: \u001b[0m\u001b[0;32m\"state\"\u001b[0m\u001b[1;39m,\n",
      "    \u001b[0m\u001b[34;1m\"name\"\u001b[0m\u001b[1;39m: \u001b[0m\u001b[0;32m\"São Paulo\"\u001b[0m\u001b[1;39m,\n",
      "    \u001b[0m\u001b[34;1m\"display_name\"\u001b[0m\u001b[1;39m: \u001b[0m\u001b[0;32m\"São Paulo, Região Sudeste, Brasil\"\u001b[0m\u001b[1;39m,\n",
      "    \u001b[0m\u001b[34;1m\"boundingbox\"\u001b[0m\u001b[1;39m: \u001b[0m\u001b[1;39m[\n",
      "      \u001b[0;32m\"-25.4895759\"\u001b[0m\u001b[1;39m,\n",
      "      \u001b[0;32m\"-19.7823272\"\u001b[0m\u001b[1;39m,\n",
      "      \u001b[0;32m\"-53.1090000\"\u001b[0m\u001b[1;39m,\n",
      "      \u001b[0;32m\"-44.1613652\"\u001b[0m\u001b[1;39m\n",
      "    \u001b[1;39m]\u001b[0m\u001b[1;39m\n",
      "  \u001b[1;39m}\u001b[0m\u001b[1;39m,\n",
      "  \u001b[1;39m{\n",
      "    \u001b[0m\u001b[34;1m\"place_id\"\u001b[0m\u001b[1;39m: \u001b[0m\u001b[0;39m46684202\u001b[0m\u001b[1;39m,\n",
      "    \u001b[0m\u001b[34;1m\"licence\"\u001b[0m\u001b[1;39m: \u001b[0m\u001b[0;32m\"Data © OpenStreetMap contributors, ODbL 1.0. http://osm.org/copyright\"\u001b[0m\u001b[1;39m,\n",
      "    \u001b[0m\u001b[34;1m\"osm_type\"\u001b[0m\u001b[1;39m: \u001b[0m\u001b[0;32m\"node\"\u001b[0m\u001b[1;39m,\n",
      "    \u001b[0m\u001b[34;1m\"osm_id\"\u001b[0m\u001b[1;39m: \u001b[0m\u001b[0;39m5390979124\u001b[0m\u001b[1;39m,\n",
      "    \u001b[0m\u001b[34;1m\"lat\"\u001b[0m\u001b[1;39m: \u001b[0m\u001b[0;32m\"-1.2043218\"\u001b[0m\u001b[1;39m,\n",
      "    \u001b[0m\u001b[34;1m\"lon\"\u001b[0m\u001b[1;39m: \u001b[0m\u001b[0;32m\"-47.1583944\"\u001b[0m\u001b[1;39m,\n",
      "    \u001b[0m\u001b[34;1m\"class\"\u001b[0m\u001b[1;39m: \u001b[0m\u001b[0;32m\"place\"\u001b[0m\u001b[1;39m,\n",
      "    \u001b[0m\u001b[34;1m\"type\"\u001b[0m\u001b[1;39m: \u001b[0m\u001b[0;32m\"suburb\"\u001b[0m\u001b[1;39m,\n",
      "    \u001b[0m\u001b[34;1m\"place_rank\"\u001b[0m\u001b[1;39m: \u001b[0m\u001b[0;39m19\u001b[0m\u001b[1;39m,\n",
      "    \u001b[0m\u001b[34;1m\"importance\"\u001b[0m\u001b[1;39m: \u001b[0m\u001b[0;39m0.6861749119420276\u001b[0m\u001b[1;39m,\n",
      "    \u001b[0m\u001b[34;1m\"addresstype\"\u001b[0m\u001b[1;39m: \u001b[0m\u001b[0;32m\"suburb\"\u001b[0m\u001b[1;39m,\n",
      "    \u001b[0m\u001b[34;1m\"name\"\u001b[0m\u001b[1;39m: \u001b[0m\u001b[0;32m\"São Paulo\"\u001b[0m\u001b[1;39m,\n",
      "    \u001b[0m\u001b[34;1m\"display_name\"\u001b[0m\u001b[1;39m: \u001b[0m\u001b[0;32m\"São Paulo, Capanema, Região Geográfica Imediata de Capanema, Região Geográfica Intermediária de Castanhal, Pará, Região Norte, 68700-540, Brasil\"\u001b[0m\u001b[1;39m,\n",
      "    \u001b[0m\u001b[34;1m\"boundingbox\"\u001b[0m\u001b[1;39m: \u001b[0m\u001b[1;39m[\n",
      "      \u001b[0;32m\"-1.2243218\"\u001b[0m\u001b[1;39m,\n",
      "      \u001b[0;32m\"-1.1843218\"\u001b[0m\u001b[1;39m,\n",
      "      \u001b[0;32m\"-47.1783944\"\u001b[0m\u001b[1;39m,\n",
      "      \u001b[0;32m\"-47.1383944\"\u001b[0m\u001b[1;39m\n",
      "    \u001b[1;39m]\u001b[0m\u001b[1;39m\n",
      "  \u001b[1;39m}\u001b[0m\u001b[1;39m\n",
      "\u001b[1;39m]\u001b[0m\n"
     ]
    }
   ],
   "source": [
    "curl -s \"https://nominatim.openstreetmap.org/search?q=Sao+Paulo,Brazil&format=json\" | jq"
   ]
  },
  {
   "cell_type": "code",
   "execution_count": 20,
   "metadata": {
    "vscode": {
     "languageId": "shellscript"
    }
   },
   "outputs": [
    {
     "name": "stdout",
     "output_type": "stream",
     "text": [
      "\u001b[0;32m\"\\\"São Paulo\\\",\\\"municipality\\\",\\\"-23.5506507\\\",\\\"-46.6333824\\\"\"\u001b[0m\n"
     ]
    }
   ],
   "source": [
    "# Retrieve only the first information and specifically only those that I need\n",
    "curl -s \"https://nominatim.openstreetmap.org/search?q=Sao+Paulo,Brazil&format=json\" | \\\n",
    "jq '.[0] | [.name, .addresstype, .lat, .lon] | @csv'"
   ]
  },
  {
   "cell_type": "code",
   "execution_count": 21,
   "metadata": {
    "vscode": {
     "languageId": "shellscript"
    }
   },
   "outputs": [],
   "source": [
    "# Cities array\n",
    "cities_array=(\"Sao Paulo,Brazil\" \"Buenos Aires,Argentina\" \"Santiago,Chile\" \"Lima,Peru\" \"Mumbai,India\" \"Kerala,India\" \"New Delhi,India\" \"Lagos,Nigeria\" \"Nairobi,Kenya\" \"Lusaka,Zambia\")\n",
    "\n",
    "# File CSV\n",
    "csv_file=\"RFP_Assignment.csv\"\n",
    "\n",
    "# Create the csv headers\n",
    "echo \"name, addresstype,lat,lon\" > RFP_Assignment1.csv\n",
    "\n",
    "# Loop through cities array\n",
    "for city in \"${cities_array[@]}\"\n",
    "do\n",
    "    # Query the API for each city\n",
    "    result=$(curl -s \"https://nominatim.openstreetmap.org/search?q=${city// /+}&format=json\" | jq '.[0] | [.name, .addresstype, .lat, .lon] | @csv')\n",
    "\n",
    "    # Remove double quotes and backslashes from the result\n",
    "    result_clean=$(echo \"${result//\\\"/}\" | tr -d '\\\\')\n",
    "\n",
    "    # Print the result\n",
    "    echo \"$result_clean\"\n",
    "done >> RFP_Assignment1.csv"
   ]
  },
  {
   "cell_type": "code",
   "execution_count": 24,
   "metadata": {
    "vscode": {
     "languageId": "shellscript"
    }
   },
   "outputs": [
    {
     "name": "stdout",
     "output_type": "stream",
     "text": [
      "name, addresstype,lat,lon\n",
      "São Paulo,municipality,-23.5506507,-46.6333824\n",
      "Buenos Aires,city,-34.6037181,-58.38153\n",
      "Santiago,city,-33.4377756,-70.6504502\n",
      "Lima Metropolitana,city,-12.0621065,-77.0365256\n",
      "Mumbai City District,city,18.9733536,72.82810491917377\n",
      "Kerala,state,10.3528744,76.5120396\n",
      "New Delhi District,city,28.6138954,77.2090057\n",
      "Lagos,city,6.4550575,3.3941795\n",
      "Nairobi,city,-1.3026148499999999,36.82884201813725\n",
      "Lusaka Province,state,-15.357609,29.1653092\n"
     ]
    }
   ],
   "source": [
    "# Check if the csv file is correct\n",
    "cat RFP_Assignment1.csv\n"
   ]
  }
 ],
 "metadata": {
  "kernelspec": {
   "display_name": "Bash",
   "language": "bash",
   "name": "bash"
  },
  "language_info": {
   "codemirror_mode": "shell",
   "file_extension": ".sh",
   "mimetype": "text/x-sh",
   "name": "bash"
  }
 },
 "nbformat": 4,
 "nbformat_minor": 2
}
