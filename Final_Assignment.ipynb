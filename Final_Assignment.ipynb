{
 "cells": [
  {
   "cell_type": "markdown",
   "metadata": {},
   "source": [
    "According to MIT Climate Portal, the urban heat island effect is a phenomenon whereby cities experience higher air temperatures than the surrounding countryside. Scientists refer to areas afflicted by these higher temperatures as urban heat islands, and people living in these areas are particularly exposed to the effects of climate change. (https://climate.mit.edu/explainers/urban-heat-islands).\n",
    "\n",
    "Moreover, certain social groups are particularly vulnerable to crises, including climate change, for example, **children**, persons with disabilities, ethnic minorities, **migrant workers**, **displaced persons**, **older people**, and other socially marginalized groups. (https://www.worldbank.org/en/topic/social-dimensions-of-climate-change#1).\n",
    "\n",
    "If we focus our attention on migrants (and in particular refugees) and displaced people, the UNHCR (UN Refugee Agency) states that the vast majority of refugees (approximately 78 percent) do not live in camps but in cities, and are therefore more vulnerable to the extreme heatwaves caused by climate change. In general urban locations offer more opportunities to live autonomously and find employment, but they also pose major challenges as refugees are often forced to share accommodation or live in non-functional public buildings, collective centers, slums or other types of informal settlements with substandard living conditions. (https://action.unrefugees.org/refugee-facts/camps/)"
   ]
  },
  {
   "cell_type": "markdown",
   "metadata": {},
   "source": [
    "THe UNHCR provides a database with the demographics of **forcibly displaced population** including internally dispaced people, refugees, asylum-seekers and other people in need of international protection that settled in urban locations in the countries of asylum. Since there is no universal definition of urban, UNCHR classifies an urban location as a settlement with more than 5,000 inhabitants.(2021, 2022 Data: https://www.unhcr.org/refugee-statistics/download/?url=0quh0N)"
   ]
  },
  {
   "cell_type": "markdown",
   "metadata": {},
   "source": [
    "The data were then filtered to identify the developing countries among the asylum countries according to the UN historical classification of developing and developed countries in 2022 and 2021 through a VLOOKUP:\n",
    "https://view.officeapps.live.com/op/view.aspx?src=https%3A%2F%2Funstats.un.org%2Funsd%2Fmethodology%2Fm49%2Fhistorical-classification-of-developed-and-developing-regions.xlsx&wdOrigin=BROWSELINK\n"
   ]
  },
  {
   "cell_type": "markdown",
   "metadata": {},
   "source": [
    "Data were cleaned to have data for both 2021 and 2022 for all the developing countries.\n",
    "Major **urban refugees settlements** were then identified through web scraping from wikipedia (https://en.wikipedia.org/wiki/Urban_refugee#References). Data were harmonised for Country name and ISO to have consistent data among the used database."
   ]
  },
  {
   "cell_type": "markdown",
   "metadata": {},
   "source": [
    "Coordinates of the cities in Developing countries with urban refugees settlements were found to then identify:\n",
    "* Highest temperatures 2013 - 2023 to identify temperature variations trend and anomalies,\n",
    "* Days with temperatures >= 35° Celsius (that, according to WHO, may cause heat-related diseases, especially if combined to high humidity https://www.who.int/news-room/fact-sheets/detail/climate-change-heat-and-health).\n",
    "\n",
    "According to WHO, infants or people who are over 60 years of age or that have chronic health conditions are those most affected by **heat-related diseases**, therefore the focus will be on developing countries hosting urban forcibly displaced population where babies < 4 years old and elderly > 60 years old are at least => 50 (Data filtered through Pivot Table)"
   ]
  },
  {
   "cell_type": "code",
   "execution_count": 4,
   "metadata": {
    "vscode": {
     "languageId": "shellscript"
    }
   },
   "outputs": [
    {
     "name": "stdout",
     "output_type": "stream",
     "text": [
      "Country,Country ISO,Urban area\n",
      "Armenia,ARM,Yerevan\n",
      "Azerbaijan,AZE,Baku\n",
      "Burkina Faso,BFA,Ouagadougou\n",
      "Burundi,BDI,Bujumbura\n",
      "Congo,COG,Brazzaville\n",
      "Cote d'Ivoire,CIV,Abidjan\n",
      "Dem. Rep. of the Congo,COD,Kinshasa\n",
      "Egypt,EGY,Alexandria\n",
      "Egypt,EGY,Cairo\n",
      "Egypt,EGY,Giza\n",
      "Ethiopia,ETH,Addis Ababa\n",
      "Ghana,GHA,Accra\n",
      "India,IND,Delhi\n",
      "Indonesia,IDN,Jakarta\n",
      "Iraq,IRQ,Babylon\n",
      "Iraq,IRQ,Baghdad\n",
      "Thailand,THA,Bangkok\n",
      "Turkey,TUR,Ankara\n",
      "Uganda,UGA,Kampala\n",
      "Syrian Arab Rep.,SYR,Damascus\n",
      "Senegal,SEN,Dakar\n",
      "Libya,LBY,Tripoli\n",
      "Morocco,MAR,Rabat\n",
      "Mexico,MEX,Mexico City\n",
      "Sudan,SDN,Kassala\n",
      "South Sudan,SSD,Juba\n",
      "Turkey,TUR,Istanbul\n",
      "Pakistan,PAK,Islamabad\n",
      "Somalia,SOM,Hargeisa\n",
      "Zimbabwe,ZWE,Harare\n",
      "Afghanistan,AFG,Kabul\n",
      "Niger,NER,Niamey\n",
      "Kenya,KEN,Nairobi\n",
      "Mozambique,MOZ,Maputo\n",
      "Nigeria,NGA,Lagos\n",
      "Malaysia,MYS,Kuala Lumpur\n",
      "Rwanda,RWA,Kigali\n",
      "Sudan,SDN,Khartoum\n",
      "Venezuela (Bolivarian Republic of),VEN,Caracas\n",
      "Yemen,YEM,Aden\n",
      "Yemen,YEM,'Amran\n",
      "Yemen,YEM,Sana'a\n",
      "Yemen,YEM,Mukalla\n"
     ]
    }
   ],
   "source": [
    "#Check if we have access to the .csv\n",
    "\n",
    "cat Cities.csv"
   ]
  },
  {
   "cell_type": "code",
   "execution_count": 8,
   "metadata": {
    "vscode": {
     "languageId": "shellscript"
    }
   },
   "outputs": [
    {
     "name": "stdout",
     "output_type": "stream",
     "text": [
      "[{\"place_id\":289735786,\"licence\":\"Data © OpenStreetMap contributors, ODbL 1.0. http://osm.org/copyright\",\"osm_type\":\"relation\",\"osm_id\":12803764,\"lat\":\"5.5571096\",\"lon\":\"-0.2012376\",\"class\":\"boundary\",\"type\":\"administrative\",\"place_rank\":16,\"importance\":0.5964183313392782,\"addresstype\":\"city\",\"name\":\"Accra\",\"display_name\":\"Accra, Korle-Klottey Municipal District, Greater Accra Region, Ghana\",\"boundingbox\":[\"5.5171908\",\"5.6673682\",\"-0.2841318\",\"-0.0548565\"]}]\n"
     ]
    }
   ],
   "source": [
    "#Test the API\n",
    "\n",
    "curl \"https://nominatim.openstreetmap.org/search?q=Accra,Ghana&format=json\" "
   ]
  },
  {
   "cell_type": "code",
   "execution_count": 36,
   "metadata": {
    "vscode": {
     "languageId": "shellscript"
    }
   },
   "outputs": [
    {
     "name": "stdout",
     "output_type": "stream",
     "text": [
      "\u001b[1;39m[\n",
      "  \u001b[1;39m{\n",
      "    \u001b[0m\u001b[34;1m\"place_id\"\u001b[0m\u001b[1;39m: \u001b[0m\u001b[0;39m69011860\u001b[0m\u001b[1;39m,\n",
      "    \u001b[0m\u001b[34;1m\"licence\"\u001b[0m\u001b[1;39m: \u001b[0m\u001b[0;32m\"Data © OpenStreetMap contributors, ODbL 1.0. http://osm.org/copyright\"\u001b[0m\u001b[1;39m,\n",
      "    \u001b[0m\u001b[34;1m\"osm_type\"\u001b[0m\u001b[1;39m: \u001b[0m\u001b[0;32m\"node\"\u001b[0m\u001b[1;39m,\n",
      "    \u001b[0m\u001b[34;1m\"osm_id\"\u001b[0m\u001b[1;39m: \u001b[0m\u001b[0;39m4298024474\u001b[0m\u001b[1;39m,\n",
      "    \u001b[0m\u001b[34;1m\"lat\"\u001b[0m\u001b[1;39m: \u001b[0m\u001b[0;32m\"14.5424624\"\u001b[0m\u001b[1;39m,\n",
      "    \u001b[0m\u001b[34;1m\"lon\"\u001b[0m\u001b[1;39m: \u001b[0m\u001b[0;32m\"49.1231345\"\u001b[0m\u001b[1;39m,\n",
      "    \u001b[0m\u001b[34;1m\"class\"\u001b[0m\u001b[1;39m: \u001b[0m\u001b[0;32m\"place\"\u001b[0m\u001b[1;39m,\n",
      "    \u001b[0m\u001b[34;1m\"type\"\u001b[0m\u001b[1;39m: \u001b[0m\u001b[0;32m\"city\"\u001b[0m\u001b[1;39m,\n",
      "    \u001b[0m\u001b[34;1m\"place_rank\"\u001b[0m\u001b[1;39m: \u001b[0m\u001b[0;39m16\u001b[0m\u001b[1;39m,\n",
      "    \u001b[0m\u001b[34;1m\"importance\"\u001b[0m\u001b[1;39m: \u001b[0m\u001b[0;39m0.4444200427268794\u001b[0m\u001b[1;39m,\n",
      "    \u001b[0m\u001b[34;1m\"addresstype\"\u001b[0m\u001b[1;39m: \u001b[0m\u001b[0;32m\"city\"\u001b[0m\u001b[1;39m,\n",
      "    \u001b[0m\u001b[34;1m\"name\"\u001b[0m\u001b[1;39m: \u001b[0m\u001b[0;32m\"المكلا\"\u001b[0m\u001b[1;39m,\n",
      "    \u001b[0m\u001b[34;1m\"display_name\"\u001b[0m\u001b[1;39m: \u001b[0m\u001b[0;32m\"المكلا, مديرية مدينة المكلا, محافظة حضرموت, اليمن\"\u001b[0m\u001b[1;39m,\n",
      "    \u001b[0m\u001b[34;1m\"boundingbox\"\u001b[0m\u001b[1;39m: \u001b[0m\u001b[1;39m[\n",
      "      \u001b[0;32m\"14.3824624\"\u001b[0m\u001b[1;39m,\n",
      "      \u001b[0;32m\"14.7024624\"\u001b[0m\u001b[1;39m,\n",
      "      \u001b[0;32m\"48.9631345\"\u001b[0m\u001b[1;39m,\n",
      "      \u001b[0;32m\"49.2831345\"\u001b[0m\u001b[1;39m\n",
      "    \u001b[1;39m]\u001b[0m\u001b[1;39m\n",
      "  \u001b[1;39m}\u001b[0m\u001b[1;39m,\n",
      "  \u001b[1;39m{\n",
      "    \u001b[0m\u001b[34;1m\"place_id\"\u001b[0m\u001b[1;39m: \u001b[0m\u001b[0;39m69244949\u001b[0m\u001b[1;39m,\n",
      "    \u001b[0m\u001b[34;1m\"licence\"\u001b[0m\u001b[1;39m: \u001b[0m\u001b[0;32m\"Data © OpenStreetMap contributors, ODbL 1.0. http://osm.org/copyright\"\u001b[0m\u001b[1;39m,\n",
      "    \u001b[0m\u001b[34;1m\"osm_type\"\u001b[0m\u001b[1;39m: \u001b[0m\u001b[0;32m\"way\"\u001b[0m\u001b[1;39m,\n",
      "    \u001b[0m\u001b[34;1m\"osm_id\"\u001b[0m\u001b[1;39m: \u001b[0m\u001b[0;39m96509538\u001b[0m\u001b[1;39m,\n",
      "    \u001b[0m\u001b[34;1m\"lat\"\u001b[0m\u001b[1;39m: \u001b[0m\u001b[0;32m\"14.54288285\"\u001b[0m\u001b[1;39m,\n",
      "    \u001b[0m\u001b[34;1m\"lon\"\u001b[0m\u001b[1;39m: \u001b[0m\u001b[0;32m\"49.12486412931612\"\u001b[0m\u001b[1;39m,\n",
      "    \u001b[0m\u001b[34;1m\"class\"\u001b[0m\u001b[1;39m: \u001b[0m\u001b[0;32m\"landuse\"\u001b[0m\u001b[1;39m,\n",
      "    \u001b[0m\u001b[34;1m\"type\"\u001b[0m\u001b[1;39m: \u001b[0m\u001b[0;32m\"residential\"\u001b[0m\u001b[1;39m,\n",
      "    \u001b[0m\u001b[34;1m\"place_rank\"\u001b[0m\u001b[1;39m: \u001b[0m\u001b[0;39m22\u001b[0m\u001b[1;39m,\n",
      "    \u001b[0m\u001b[34;1m\"importance\"\u001b[0m\u001b[1;39m: \u001b[0m\u001b[0;39m0.2000099999999999\u001b[0m\u001b[1;39m,\n",
      "    \u001b[0m\u001b[34;1m\"addresstype\"\u001b[0m\u001b[1;39m: \u001b[0m\u001b[0;32m\"residential\"\u001b[0m\u001b[1;39m,\n",
      "    \u001b[0m\u001b[34;1m\"name\"\u001b[0m\u001b[1;39m: \u001b[0m\u001b[0;32m\"المكلا\"\u001b[0m\u001b[1;39m,\n",
      "    \u001b[0m\u001b[34;1m\"display_name\"\u001b[0m\u001b[1;39m: \u001b[0m\u001b[0;32m\"المكلا, حي غار الأحمر, المكلا, مديرية مدينة المكلا, محافظة حضرموت, اليمن\"\u001b[0m\u001b[1;39m,\n",
      "    \u001b[0m\u001b[34;1m\"boundingbox\"\u001b[0m\u001b[1;39m: \u001b[0m\u001b[1;39m[\n",
      "      \u001b[0;32m\"14.5229448\"\u001b[0m\u001b[1;39m,\n",
      "      \u001b[0;32m\"14.5622405\"\u001b[0m\u001b[1;39m,\n",
      "      \u001b[0;32m\"49.0935217\"\u001b[0m\u001b[1;39m,\n",
      "      \u001b[0;32m\"49.1456979\"\u001b[0m\u001b[1;39m\n",
      "    \u001b[1;39m]\u001b[0m\u001b[1;39m\n",
      "  \u001b[1;39m}\u001b[0m\u001b[1;39m,\n",
      "  \u001b[1;39m{\n",
      "    \u001b[0m\u001b[34;1m\"place_id\"\u001b[0m\u001b[1;39m: \u001b[0m\u001b[0;39m69235723\u001b[0m\u001b[1;39m,\n",
      "    \u001b[0m\u001b[34;1m\"licence\"\u001b[0m\u001b[1;39m: \u001b[0m\u001b[0;32m\"Data © OpenStreetMap contributors, ODbL 1.0. http://osm.org/copyright\"\u001b[0m\u001b[1;39m,\n",
      "    \u001b[0m\u001b[34;1m\"osm_type\"\u001b[0m\u001b[1;39m: \u001b[0m\u001b[0;32m\"relation\"\u001b[0m\u001b[1;39m,\n",
      "    \u001b[0m\u001b[34;1m\"osm_id\"\u001b[0m\u001b[1;39m: \u001b[0m\u001b[0;39m9149820\u001b[0m\u001b[1;39m,\n",
      "    \u001b[0m\u001b[34;1m\"lat\"\u001b[0m\u001b[1;39m: \u001b[0m\u001b[0;32m\"14.671118\"\u001b[0m\u001b[1;39m,\n",
      "    \u001b[0m\u001b[34;1m\"lon\"\u001b[0m\u001b[1;39m: \u001b[0m\u001b[0;32m\"48.91989\"\u001b[0m\u001b[1;39m,\n",
      "    \u001b[0m\u001b[34;1m\"class\"\u001b[0m\u001b[1;39m: \u001b[0m\u001b[0;32m\"boundary\"\u001b[0m\u001b[1;39m,\n",
      "    \u001b[0m\u001b[34;1m\"type\"\u001b[0m\u001b[1;39m: \u001b[0m\u001b[0;32m\"administrative\"\u001b[0m\u001b[1;39m,\n",
      "    \u001b[0m\u001b[34;1m\"place_rank\"\u001b[0m\u001b[1;39m: \u001b[0m\u001b[0;39m12\u001b[0m\u001b[1;39m,\n",
      "    \u001b[0m\u001b[34;1m\"importance\"\u001b[0m\u001b[1;39m: \u001b[0m\u001b[0;39m0.45000999999999997\u001b[0m\u001b[1;39m,\n",
      "    \u001b[0m\u001b[34;1m\"addresstype\"\u001b[0m\u001b[1;39m: \u001b[0m\u001b[0;32m\"district\"\u001b[0m\u001b[1;39m,\n",
      "    \u001b[0m\u001b[34;1m\"name\"\u001b[0m\u001b[1;39m: \u001b[0m\u001b[0;32m\"مديرية أرياف المكلا\"\u001b[0m\u001b[1;39m,\n",
      "    \u001b[0m\u001b[34;1m\"display_name\"\u001b[0m\u001b[1;39m: \u001b[0m\u001b[0;32m\"مديرية أرياف المكلا, محافظة حضرموت, اليمن\"\u001b[0m\u001b[1;39m,\n",
      "    \u001b[0m\u001b[34;1m\"boundingbox\"\u001b[0m\u001b[1;39m: \u001b[0m\u001b[1;39m[\n",
      "      \u001b[0;32m\"14.4917356\"\u001b[0m\u001b[1;39m,\n",
      "      \u001b[0;32m\"14.9707361\"\u001b[0m\u001b[1;39m,\n",
      "      \u001b[0;32m\"48.5307467\"\u001b[0m\u001b[1;39m,\n",
      "      \u001b[0;32m\"49.3052558\"\u001b[0m\u001b[1;39m\n",
      "    \u001b[1;39m]\u001b[0m\u001b[1;39m\n",
      "  \u001b[1;39m}\u001b[0m\u001b[1;39m,\n",
      "  \u001b[1;39m{\n",
      "    \u001b[0m\u001b[34;1m\"place_id\"\u001b[0m\u001b[1;39m: \u001b[0m\u001b[0;39m69516911\u001b[0m\u001b[1;39m,\n",
      "    \u001b[0m\u001b[34;1m\"licence\"\u001b[0m\u001b[1;39m: \u001b[0m\u001b[0;32m\"Data © OpenStreetMap contributors, ODbL 1.0. http://osm.org/copyright\"\u001b[0m\u001b[1;39m,\n",
      "    \u001b[0m\u001b[34;1m\"osm_type\"\u001b[0m\u001b[1;39m: \u001b[0m\u001b[0;32m\"relation\"\u001b[0m\u001b[1;39m,\n",
      "    \u001b[0m\u001b[34;1m\"osm_id\"\u001b[0m\u001b[1;39m: \u001b[0m\u001b[0;39m9149821\u001b[0m\u001b[1;39m,\n",
      "    \u001b[0m\u001b[34;1m\"lat\"\u001b[0m\u001b[1;39m: \u001b[0m\u001b[0;32m\"14.57884\"\u001b[0m\u001b[1;39m,\n",
      "    \u001b[0m\u001b[34;1m\"lon\"\u001b[0m\u001b[1;39m: \u001b[0m\u001b[0;32m\"49.192913\"\u001b[0m\u001b[1;39m,\n",
      "    \u001b[0m\u001b[34;1m\"class\"\u001b[0m\u001b[1;39m: \u001b[0m\u001b[0;32m\"boundary\"\u001b[0m\u001b[1;39m,\n",
      "    \u001b[0m\u001b[34;1m\"type\"\u001b[0m\u001b[1;39m: \u001b[0m\u001b[0;32m\"administrative\"\u001b[0m\u001b[1;39m,\n",
      "    \u001b[0m\u001b[34;1m\"place_rank\"\u001b[0m\u001b[1;39m: \u001b[0m\u001b[0;39m12\u001b[0m\u001b[1;39m,\n",
      "    \u001b[0m\u001b[34;1m\"importance\"\u001b[0m\u001b[1;39m: \u001b[0m\u001b[0;39m0.45000999999999997\u001b[0m\u001b[1;39m,\n",
      "    \u001b[0m\u001b[34;1m\"addresstype\"\u001b[0m\u001b[1;39m: \u001b[0m\u001b[0;32m\"district\"\u001b[0m\u001b[1;39m,\n",
      "    \u001b[0m\u001b[34;1m\"name\"\u001b[0m\u001b[1;39m: \u001b[0m\u001b[0;32m\"مديرية مدينة المكلا\"\u001b[0m\u001b[1;39m,\n",
      "    \u001b[0m\u001b[34;1m\"display_name\"\u001b[0m\u001b[1;39m: \u001b[0m\u001b[0;32m\"مديرية مدينة المكلا, محافظة حضرموت, اليمن\"\u001b[0m\u001b[1;39m,\n",
      "    \u001b[0m\u001b[34;1m\"boundingbox\"\u001b[0m\u001b[1;39m: \u001b[0m\u001b[1;39m[\n",
      "      \u001b[0;32m\"14.3899304\"\u001b[0m\u001b[1;39m,\n",
      "      \u001b[0;32m\"14.6871687\"\u001b[0m\u001b[1;39m,\n",
      "      \u001b[0;32m\"48.9889167\"\u001b[0m\u001b[1;39m,\n",
      "      \u001b[0;32m\"49.4130774\"\u001b[0m\u001b[1;39m\n",
      "    \u001b[1;39m]\u001b[0m\u001b[1;39m\n",
      "  \u001b[1;39m}\u001b[0m\u001b[1;39m\n",
      "\u001b[1;39m]\u001b[0m\n"
     ]
    }
   ],
   "source": [
    "#fix the format\n",
    "\n",
    "curl -s \"https://nominatim.openstreetmap.org/search?q=Mukalla,Yemen&format=json\"  | jq"
   ]
  },
  {
   "cell_type": "code",
   "execution_count": 34,
   "metadata": {
    "vscode": {
     "languageId": "shellscript"
    }
   },
   "outputs": [],
   "source": [
    "#API with the Cities.csv file\n",
    "\n",
    "echo \"lat, long, city, addresstype\" > Cities_Coordinates.csv\n",
    "while read city\n",
    "do    \n",
    "    result=$(curl -s \"https://nominatim.openstreetmap.org/search?q=${city}&format=json\" | jq '.[] | [.lat, .lon, .name, .addresstype] | @csv')\n",
    "    result2=$(echo \"${result//\\\"/}\")\n",
    "    echo \"${result2//\\\\/}\"\n",
    "done < Cities.csv >> Cities_Coordinates.csv"
   ]
  },
  {
   "cell_type": "markdown",
   "metadata": {},
   "source": [
    "The Cities_Coordinates.csv was then clean by cities and municipalities, the arabic names were converted in English by ChatGPT for personal analysis"
   ]
  }
 ],
 "metadata": {
  "kernelspec": {
   "display_name": "Bash",
   "language": "bash",
   "name": "bash"
  },
  "language_info": {
   "codemirror_mode": "shell",
   "file_extension": ".sh",
   "mimetype": "text/x-sh",
   "name": "bash"
  }
 },
 "nbformat": 4,
 "nbformat_minor": 2
}
