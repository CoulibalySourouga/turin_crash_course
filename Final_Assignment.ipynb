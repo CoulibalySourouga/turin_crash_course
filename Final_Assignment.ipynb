{
 "cells": [
  {
   "cell_type": "markdown",
   "metadata": {},
   "source": [
    "According to MIT Climate Portal, the urban heat island effect is a phenomenon whereby cities experience higher air temperatures than the surrounding countryside. Scientists refer to areas afflicted by these higher temperatures as urban heat islands, and people living in these areas are particularly exposed to the effects of climate change. (https://climate.mit.edu/explainers/urban-heat-islands).\n",
    "\n",
    "Moreover, certain social groups are particularly vulnerable to crises, including climate change, for example, **children**, persons with disabilities, ethnic minorities, **migrant workers**, **displaced persons**, **older people**, and other socially marginalized groups. (https://www.worldbank.org/en/topic/social-dimensions-of-climate-change#1).\n",
    "\n",
    "If we focus our attention on migrants (and in particular refugees) and displaced people, the UNHCR (UN Refugee Agency) states that the vast majority of refugees (approximately 78 percent) do not live in camps but in cities, and are therefore more vulnerable to the extreme heatwaves caused by climate change. In general urban locations offer more opportunities to live autonomously and find employment, but they also pose major challenges as refugees are often forced to share accommodation or live in non-functional public buildings, collective centers, slums or other types of informal settlements with substandard living conditions. (https://action.unrefugees.org/refugee-facts/camps/)"
   ]
  },
  {
   "cell_type": "markdown",
   "metadata": {},
   "source": [
    "THe UNHCR provides a database with the demographics of **forcibly displaced population** including internally dispaced people, refugees, asylum-seekers and other people in need of international protection that settled in urban locations in the countries of asylum. Since there is no universal definition of urban, UNCHR classifies an urban location as a settlement with more than 5,000 inhabitants.(2021, 2022 Data: https://www.unhcr.org/refugee-statistics/download/?url=0quh0N)"
   ]
  },
  {
   "cell_type": "markdown",
   "metadata": {},
   "source": [
    "The data were then filtered to identify the developing countries among the asylum countries according to the UN historical classification of developing and developed countries in 2022 and 2021 through a VLOOKUP:\n",
    "https://view.officeapps.live.com/op/view.aspx?src=https%3A%2F%2Funstats.un.org%2Funsd%2Fmethodology%2Fm49%2Fhistorical-classification-of-developed-and-developing-regions.xlsx&wdOrigin=BROWSELINK\n"
   ]
  },
  {
   "cell_type": "markdown",
   "metadata": {},
   "source": [
    "Data were cleaned to have data for both 2021 and 2022 for all the developing countries.\n",
    "Major **urban refugees settlements** were then identified through web scraping from wikipedia (https://en.wikipedia.org/wiki/Urban_refugee#References). Data were harmonised for Country name and ISO to have consistent data among the used database."
   ]
  },
  {
   "cell_type": "markdown",
   "metadata": {},
   "source": [
    "Coordinates of the cities in Developing countries with urban refugees settlements were found to then identify:\n",
    "* Highest temperatures 2013 - 2023\n",
    "* Days with temperatures >= 35° Celsius (that, according to WHO, may cause heat-related diseases, especially if combined to high humidity https://www.who.int/news-room/fact-sheets/detail/climate-change-heat-and-health)\n",
    "\n",
    "According to WHO, infants or people who are over 60 years of age or that have chronic health conditions are those most affected by **heat-related diseases**, therefore the focus will be on developing countries hosting urban forcibly displaced population where babies < 4 years old and elderly > 60 years old are at least => 50 (Data filtered through Pivot Table)"
   ]
  },
  {
   "cell_type": "code",
   "execution_count": null,
   "metadata": {
    "vscode": {
     "languageId": "plaintext"
    }
   },
   "outputs": [],
   "source": []
  }
 ],
 "metadata": {
  "language_info": {
   "name": "python"
  }
 },
 "nbformat": 4,
 "nbformat_minor": 2
}
