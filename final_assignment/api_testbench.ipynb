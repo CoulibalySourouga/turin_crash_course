{
 "cells": [
  {
   "cell_type": "markdown",
   "metadata": {},
   "source": [
    "# ICT for Development - Collaborative API library\n",
    "\n",
    "## Overview\n",
    "\n",
    "This notebook aims to compile beginner-friendly documentation of APis relevant to the work of civic actors active in the field of international development. The project was started in 2024 by [Cedric Lombion](https://civicliteraci.es) to support his teaching at the University of Turin's ICT for Development and Social Good master's programme. Nonetheless, the project bears no formal affiliation with the university. \n",
    "\n",
    "Each entry aims to document key information and examples about the API being documented, with a focus on making them more accessible to beginners to APIs and command line scripting.\n",
    "\n",
    "## Contributing\n",
    "\n",
    "1. Fork the repository\n",
    "2. add your API descriptioni and examples\n",
    "3. Ensure that your examples are well documented an suitable for beginners\n",
    "4. send a pull request which will be reviewed for addition. \n",
    "\n",
    "For suggestion or improvements, open an issue on the repository. Alternatively, contact us at contact [at] civicliteraci.es"
   ]
  },
  {
   "cell_type": "markdown",
   "metadata": {
    "vscode": {
     "languageId": "shellscript"
    }
   },
   "source": [
    "## Genderize API\n",
    "* **main website**: https://genderize.io\n",
    "* **API docs**: https://genderize.io/documentation\n",
    "* **Purpose:** predicts the gender of an individual based on their name and (optionally) country\n",
    "* **Limitations:** \n",
    "    * binary gender model\n",
    "    * up to 100 names/day\n",
    "    * up to 10 names per request (batch request)\n",
    "    * using localization on a batch request will apply the given country_id to every name in the batch\n"
   ]
  },
  {
   "cell_type": "markdown",
   "metadata": {},
   "source": [
    "### Basic example"
   ]
  },
  {
   "cell_type": "code",
   "execution_count": 8,
   "metadata": {
    "vscode": {
     "languageId": "shellscript"
    }
   },
   "outputs": [
    {
     "name": "stdout",
     "output_type": "stream",
     "text": [
      "{\"count\":481613,\"name\":\"Marie Anne\",\"gender\":\"female\",\"probability\":1.0}\n"
     ]
    }
   ],
   "source": [
    "# We use the option --data-urlencode to make it easy to include names with special characters\n",
    "curl -G \"https://api.genderize.io/\" --data-urlencode \"name=Marie Anne\" --data-urlencode \"country=FR\""
   ]
  },
  {
   "cell_type": "markdown",
   "metadata": {},
   "source": [
    "### Multiple names in a request\n",
    "\n",
    "A loop can be used to construct a request that includes multiple names drawn from an array.  \n",
    "the API accepts only up to 10 names.  \n",
    "Adding a localization will apply to all names in the request."
   ]
  },
  {
   "cell_type": "code",
   "execution_count": 13,
   "metadata": {
    "vscode": {
     "languageId": "shellscript"
    }
   },
   "outputs": [
    {
     "name": "stdout",
     "output_type": "stream",
     "text": [
      "curl -s -G \"https://api.genderize.io?\" --data-urlencode \"name[]=yamen\" --data-urlencode \"name[]=lawson\" --data-urlencode \"name[]=maria\" --data-urlencode \"name[]=alejandro\"\n",
      "\u001b[1;39m[\n",
      "  \u001b[1;39m{\n",
      "    \u001b[0m\u001b[34;1m\"count\"\u001b[0m\u001b[1;39m: \u001b[0m\u001b[0;39m814\u001b[0m\u001b[1;39m,\n",
      "    \u001b[0m\u001b[34;1m\"name\"\u001b[0m\u001b[1;39m: \u001b[0m\u001b[0;32m\"lawson\"\u001b[0m\u001b[1;39m,\n",
      "    \u001b[0m\u001b[34;1m\"gender\"\u001b[0m\u001b[1;39m: \u001b[0m\u001b[0;32m\"male\"\u001b[0m\u001b[1;39m,\n",
      "    \u001b[0m\u001b[34;1m\"probability\"\u001b[0m\u001b[1;39m: \u001b[0m\u001b[0;39m0.88\u001b[0m\u001b[1;39m\n",
      "  \u001b[1;39m}\u001b[0m\u001b[1;39m,\n",
      "  \u001b[1;39m{\n",
      "    \u001b[0m\u001b[34;1m\"count\"\u001b[0m\u001b[1;39m: \u001b[0m\u001b[0;39m2687884\u001b[0m\u001b[1;39m,\n",
      "    \u001b[0m\u001b[34;1m\"name\"\u001b[0m\u001b[1;39m: \u001b[0m\u001b[0;32m\"maria\"\u001b[0m\u001b[1;39m,\n",
      "    \u001b[0m\u001b[34;1m\"gender\"\u001b[0m\u001b[1;39m: \u001b[0m\u001b[0;32m\"female\"\u001b[0m\u001b[1;39m,\n",
      "    \u001b[0m\u001b[34;1m\"probability\"\u001b[0m\u001b[1;39m: \u001b[0m\u001b[0;39m1\u001b[0m\u001b[1;39m\n",
      "  \u001b[1;39m}\u001b[0m\u001b[1;39m,\n",
      "  \u001b[1;39m{\n",
      "    \u001b[0m\u001b[34;1m\"count\"\u001b[0m\u001b[1;39m: \u001b[0m\u001b[0;39m386853\u001b[0m\u001b[1;39m,\n",
      "    \u001b[0m\u001b[34;1m\"name\"\u001b[0m\u001b[1;39m: \u001b[0m\u001b[0;32m\"alejandro\"\u001b[0m\u001b[1;39m,\n",
      "    \u001b[0m\u001b[34;1m\"gender\"\u001b[0m\u001b[1;39m: \u001b[0m\u001b[0;32m\"male\"\u001b[0m\u001b[1;39m,\n",
      "    \u001b[0m\u001b[34;1m\"probability\"\u001b[0m\u001b[1;39m: \u001b[0m\u001b[0;39m1\u001b[0m\u001b[1;39m\n",
      "  \u001b[1;39m}\u001b[0m\u001b[1;39m\n",
      "\u001b[1;39m]\u001b[0m\n"
     ]
    }
   ],
   "source": [
    "# Defining our arrays\n",
    "\n",
    "name_list=(\"yamen\" \"lawson\" \"maria\" \"alejandro\")\n",
    "country=(\"sy\" \"tg\" \"it\" \"es\")\n",
    "\n",
    "# Start building the curl command\n",
    "request=\"curl -s -G \\\"https://api.genderize.io?\\\"\"\n",
    "\n",
    "# Add each name to the curl command with --data-urlencode\n",
    "for name in \"${name_list[@]}\"\n",
    "do\n",
    "    request+=\" --data-urlencode \\\"name[]=${name}\\\"\"\n",
    "done\n",
    "\n",
    "# Check that the command is properly formed\n",
    "echo \"$request\"\n",
    "\n",
    "# Excute the command\n",
    "bash -c \"$request\" | jq"
   ]
  },
  {
   "cell_type": "markdown",
   "metadata": {},
   "source": [
    "### Automate name and country requests and CSV export\n",
    "\n",
    "We can create a loop that makes it possible to automate requests with both the name and country included.  \n",
    "We will process the returned json with jq to transform the results into tabular data."
   ]
  },
  {
   "cell_type": "code",
   "execution_count": 14,
   "metadata": {
    "vscode": {
     "languageId": "shellscript"
    }
   },
   "outputs": [
    {
     "name": "stdout",
     "output_type": "stream",
     "text": [
      "\u001b[0;32m\"\\\"yamen\\\",\\\"male\\\"\"\u001b[0m\n",
      "\u001b[0;32m\"\\\"lawson\\\",\\\"male\\\"\"\u001b[0m\n",
      "\u001b[0;32m\"\\\"maria\\\",\\\"female\\\"\"\u001b[0m\n",
      "\u001b[0;32m\"\\\"alejandro\\\",\\\"male\\\"\"\u001b[0m\n"
     ]
    }
   ],
   "source": [
    "# we declare our arrays\n",
    "name_list=(\"yamen\" \"lawson\" \"maria\" \"alejandro\")\n",
    "country=(\"sy\" \"tg\" \"it\" \"es\")\n",
    "\n",
    "# we count and store the number of values in our array to reuse it in the loop\n",
    "length=${#country[@]}\n",
    "\n",
    "# we loop through the arrays\n",
    "for ((i=0; i<length; i++))\n",
    "do\n",
    "    curl -s -G \"https://api.genderize.io/\" \\\n",
    "    --data-urlencode \"name=${name_list[$i]}\" \\\n",
    "    --data-urlencode \"country_id=${country[$i]}\" |\n",
    "    jq '[.name, .gender] | @csv'\n",
    "done"
   ]
  },
  {
   "cell_type": "markdown",
   "metadata": {},
   "source": [
    "## SerpAPI\n",
    "* **url**: https://serpapi.com/\n",
    "* **Purpose**: getting JSON formatted google results\n",
    "* **Constraints** 1000 free calls / day"
   ]
  },
  {
   "cell_type": "markdown",
   "metadata": {},
   "source": [
    "### Simple query filtered with jq\n",
    "\n",
    "Example of a basic query.  \n",
    "The jq filter helps with producing a smaller output as the original JSON takes a lot of space."
   ]
  },
  {
   "cell_type": "code",
   "execution_count": 8,
   "metadata": {
    "vscode": {
     "languageId": "shellscript"
    }
   },
   "outputs": [
    {
     "name": "stdout",
     "output_type": "stream",
     "text": [
      "\u001b[1;39m{\n",
      "  \u001b[0m\u001b[1;34m\"key\"\u001b[0m\u001b[1;39m: \u001b[0m\u001b[0;32m\"search_metadata\"\u001b[0m\u001b[1;39m,\n",
      "  \u001b[0m\u001b[1;34m\"type\"\u001b[0m\u001b[1;39m: \u001b[0m\u001b[0;32m\"object\"\u001b[0m\u001b[1;39m\n",
      "\u001b[1;39m}\u001b[0m\n",
      "\u001b[1;39m{\n",
      "  \u001b[0m\u001b[1;34m\"key\"\u001b[0m\u001b[1;39m: \u001b[0m\u001b[0;32m\"search_parameters\"\u001b[0m\u001b[1;39m,\n",
      "  \u001b[0m\u001b[1;34m\"type\"\u001b[0m\u001b[1;39m: \u001b[0m\u001b[0;32m\"object\"\u001b[0m\u001b[1;39m\n",
      "\u001b[1;39m}\u001b[0m\n",
      "\u001b[1;39m{\n",
      "  \u001b[0m\u001b[1;34m\"key\"\u001b[0m\u001b[1;39m: \u001b[0m\u001b[0;32m\"search_information\"\u001b[0m\u001b[1;39m,\n",
      "  \u001b[0m\u001b[1;34m\"type\"\u001b[0m\u001b[1;39m: \u001b[0m\u001b[0;32m\"object\"\u001b[0m\u001b[1;39m\n",
      "\u001b[1;39m}\u001b[0m\n",
      "\u001b[1;39m{\n",
      "  \u001b[0m\u001b[1;34m\"key\"\u001b[0m\u001b[1;39m: \u001b[0m\u001b[0;32m\"local_map\"\u001b[0m\u001b[1;39m,\n",
      "  \u001b[0m\u001b[1;34m\"type\"\u001b[0m\u001b[1;39m: \u001b[0m\u001b[0;32m\"object\"\u001b[0m\u001b[1;39m\n",
      "\u001b[1;39m}\u001b[0m\n",
      "\u001b[1;39m{\n",
      "  \u001b[0m\u001b[1;34m\"key\"\u001b[0m\u001b[1;39m: \u001b[0m\u001b[0;32m\"local_results\"\u001b[0m\u001b[1;39m,\n",
      "  \u001b[0m\u001b[1;34m\"type\"\u001b[0m\u001b[1;39m: \u001b[0m\u001b[0;32m\"object\"\u001b[0m\u001b[1;39m\n",
      "\u001b[1;39m}\u001b[0m\n"
     ]
    }
   ],
   "source": [
    "# the jq code includes only the first five entries and identify their top level objects.\n",
    "\n",
    "curl -s \"https://serpapi.com/search.json?q=Coffee&location=Austin,+Texas,+United+States&hl=en&gl=us&google_domain=google.com\" \\\n",
    "| jq 'to_entries[0:5] | .[] | {key: .key, type: (.value | type)}'\n"
   ]
  },
  {
   "cell_type": "markdown",
   "metadata": {},
   "source": [
    "### Filtered data and export to CSV"
   ]
  },
  {
   "cell_type": "code",
   "execution_count": 9,
   "metadata": {
    "vscode": {
     "languageId": "shellscript"
    }
   },
   "outputs": [
    {
     "name": "stdout",
     "output_type": "stream",
     "text": [
      "\u001b[0;32m\"\\\"Coffee\\\",\\\"https://en.wikipedia.org/wiki/Coffee\\\",\\\"Coffee is a beverage brewed from roasted coffee beans. Darkly colored, bitter, and slightly acidic, coffee has a stimulating effect on humans, primarily due ...\\\"\"\u001b[0m\n",
      "\u001b[0;32m\"\\\"What is Coffee?\\\",\\\"https://www.ncausa.org/About-Coffee/What-is-Coffee\\\",\\\"Coffee traces its origin to a genus of plants known as Coffea. Within the genus there are over 500 genera and 6,000 species of tropical trees and shrubs.\\\"\"\u001b[0m\n",
      "\u001b[0;32m\"\\\"Starbucks Coffee Company\\\",\\\"https://www.starbucks.com/\\\",\\\"More than just great coffee. Explore the menu, sign up for Starbucks® Rewards, manage your gift card and more.\\\"\"\u001b[0m\n",
      "\u001b[0;32m\"\\\"Coffee | Origin, Types, Uses, History, & Facts\\\",\\\"https://www.britannica.com/topic/coffee\\\",\\\"Coffee, beverage brewed from the roasted and ground seeds of the tropical evergreen coffee plant of African origin. Coffee is one of the ...\\\"\"\u001b[0m\n",
      "\u001b[0;32m\"\\\"Coffee | The Nutrition Source - hsph.harvard.edu\\\",\\\"https://www.hsph.harvard.edu/nutritionsource/food-features/coffee/\\\",\\\"Low to moderate doses of caffeine (50–300 mg) may cause increased alertness, energy, and ability to concentrate, while higher doses may have negative effects ...\\\"\"\u001b[0m\n",
      "\u001b[0;32m\"\\\"Coffee health benefits: Diabetes, heart health, liver cancer, ...\\\",\\\"https://www.medicalnewstoday.com/articles/270202\\\",\\\"In some cases, coffee may be good for health, as it may offer benefits such as lowering the risk of type 2 diabetes and helping people lose weight.\\\"\"\u001b[0m\n",
      "\u001b[0;32m\"\\\"Coffee - Walmart.com\\\",\\\"https://www.walmart.com/cp/coffee/1086446\\\",\\\"Shop for Coffee at Walmart.com. Buy Ground coffee, coffee pods, instant coffee, and whole bean coffee. Save money. Live better.\\\"\"\u001b[0m\n",
      "\u001b[0;32m\"\\\"9 Health Benefits of Coffee, Based on Science\\\",\\\"https://www.healthline.com/nutrition/top-evidence-based-health-benefits-of-coffee\\\",\\\"Coffee is a major source of antioxidants in the diet. It has many health benefits, such as improved brain function and a lower risk of ...\\\"\"\u001b[0m\n"
     ]
    }
   ],
   "source": [
    "#Same query, but with an explicity attribute filter and csv converstion with jq\n",
    "\n",
    "curl -s \"https://serpapi.com/search.json?q=Coffee&location=Austin,+Texas,+United+States&hl=en&gl=us&google_domain=google.com\" \\\n",
    "| jq '.organic_results[] | [.title,.link, .snippet] | @csv'"
   ]
  },
  {
   "cell_type": "markdown",
   "metadata": {
    "vscode": {
     "languageId": "shellscript"
    }
   },
   "source": [
    "## Country Info API\n",
    "\n",
    "* **main website**: https://countryinfoapi.com\n",
    "* **url**: https://countryinfoapi.com\n",
    "* **Purpose**: fetch additional info about a country/continent etc\n",
    "* **limitations:** \n",
    "\n"
   ]
  },
  {
   "cell_type": "code",
   "execution_count": 50,
   "metadata": {
    "vscode": {
     "languageId": "shellscript"
    }
   },
   "outputs": [
    {
     "name": "stdout",
     "output_type": "stream",
     "text": [
      "\u001b[0;32m\"\\\"France\\\",\\\"Europe\\\"\"\u001b[0m\n",
      "\u001b[0;32m\"\\\"Togo\\\",\\\"Africa\\\"\"\u001b[0m\n",
      "\u001b[0;32m\"\\\"Italy\\\",\\\"Europe\\\"\"\u001b[0m\n",
      "\u001b[0;32m\"\\\"Germany\\\",\\\"Europe\\\"\"\u001b[0m\n",
      "\u001b[0;32m\"\\\"Syria\\\",\\\"Asia\\\"\"\u001b[0m\n"
     ]
    }
   ],
   "source": [
    "countries=(\"France\" \"Togo\" \"Italy\" \"Germany\" \"Syria\")\n",
    "\n",
    "for i in ${countries[@]}\n",
    "do  \n",
    "    curl -s \"https://countryinfoapi.com/api/countries/name/$i\" | jq '[.name,.region] | @csv'\n",
    "done"
   ]
  },
  {
   "cell_type": "code",
   "execution_count": 37,
   "metadata": {
    "vscode": {
     "languageId": "shellscript"
    }
   },
   "outputs": [
    {
     "name": "stdout",
     "output_type": "stream",
     "text": [
      "Ivory+Coast\n"
     ]
    }
   ],
   "source": [
    "i=\"Ivory Coast\"\n",
    "clean=$(echo \"${i// /+}\")\n",
    "echo \"$clean\""
   ]
  },
  {
   "cell_type": "code",
   "execution_count": 39,
   "metadata": {
    "vscode": {
     "languageId": "shellscript"
    }
   },
   "outputs": [
    {
     "name": "stdout",
     "output_type": "stream",
     "text": [
      "France\n",
      "Togo\n",
      "Italy\n",
      "Germany\n",
      "Syria\n"
     ]
    }
   ],
   "source": [
    "for i in ${countries[@]}\n",
    "do echo \"$i\"\n",
    "done"
   ]
  },
  {
   "cell_type": "markdown",
   "metadata": {},
   "source": [
    "## Open Meteo API\n",
    "\n",
    "* **main website**: \n",
    "* **API docs**: \n",
    "* **Purpose:** \n",
    "* **Limitations:** "
   ]
  },
  {
   "cell_type": "markdown",
   "metadata": {},
   "source": [
    "## Healthsites.io API\n",
    "\n",
    "* **main website**: \n",
    "* **API docs**: \n",
    "* **Purpose:** \n",
    "* **Limitations:** "
   ]
  }
 ],
 "metadata": {
  "kernelspec": {
   "display_name": "Bash",
   "language": "bash",
   "name": "bash"
  },
  "language_info": {
   "codemirror_mode": "shell",
   "file_extension": ".sh",
   "mimetype": "text/x-sh",
   "name": "bash"
  }
 },
 "nbformat": 4,
 "nbformat_minor": 2
}
