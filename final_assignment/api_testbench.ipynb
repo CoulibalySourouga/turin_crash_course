{
 "cells": [
  {
   "cell_type": "markdown",
   "metadata": {},
   "source": [
    "# ICT for Development - Collaborative API library\n",
    "\n",
    "## Overview\n",
    "\n",
    "This notebook aims to compile beginner-friendly documentation of APis relevant to the work of civic actors active in the field of international development. The project was started in 2024 by [Cedric Lombion](https://civicliteraci.es) to support his teaching at the University of Turin's ICT for Development and Social Good master's programme. Nonetheless, the project bears no formal affiliation with the university. \n",
    "\n",
    "Each entry aims to document key information and examples about the API being documented, with a focus on making them more accessible to beginners to APIs and command line scripting.\n",
    "\n",
    "## Contributing\n",
    "\n",
    "1. Fork the repository\n",
    "2. add your API descriptioni and examples\n",
    "3. Ensure that your examples are well documented an suitable for beginners\n",
    "4. send a pull request which will be reviewed for addition. \n",
    "\n",
    "For suggestion or improvements, open an issue on the repository. Alternatively, contact us at contact [at] civicliteraci.es"
   ]
  },
  {
   "cell_type": "markdown",
   "metadata": {
    "vscode": {
     "languageId": "shellscript"
    }
   },
   "source": [
    "## Genderize API\n",
    "* **main website**: https://genderize.io\n",
    "* **API docs**: https://genderize.io/documentation\n",
    "* **Purpose:** predicts the gender of an individual based on their name and (optionally) country\n",
    "* **Limitations:** \n",
    "    * binary gender model\n",
    "    * up to 100 names/day\n",
    "    * up to 10 names per request (batch request)\n",
    "    * using localization on a batch request will apply the given country_id to every name in the batch\n"
   ]
  },
  {
   "cell_type": "markdown",
   "metadata": {},
   "source": [
    "### Basic example"
   ]
  },
  {
   "cell_type": "code",
   "execution_count": 8,
   "metadata": {
    "vscode": {
     "languageId": "shellscript"
    }
   },
   "outputs": [
    {
     "name": "stdout",
     "output_type": "stream",
     "text": [
      "{\"count\":481613,\"name\":\"Marie Anne\",\"gender\":\"female\",\"probability\":1.0}\n"
     ]
    }
   ],
   "source": [
    "# We use the option --data-urlencode to make it easy to include names with special characters\n",
    "curl -G \"https://api.genderize.io/\" --data-urlencode \"name=Marie Anne\" --data-urlencode \"country=FR\""
   ]
  },
  {
   "cell_type": "markdown",
   "metadata": {},
   "source": [
    "### Multiple names in a request\n",
    "\n",
    "A loop can be used to construct a request that includes multiple names drawn from an array.  \n",
    "the API accepts only up to 10 names.  \n",
    "Adding a localization will apply to all names in the request."
   ]
  },
  {
   "cell_type": "code",
   "execution_count": 13,
   "metadata": {
    "vscode": {
     "languageId": "shellscript"
    }
   },
   "outputs": [
    {
     "name": "stdout",
     "output_type": "stream",
     "text": [
      "curl -s -G \"https://api.genderize.io?\" --data-urlencode \"name[]=yamen\" --data-urlencode \"name[]=lawson\" --data-urlencode \"name[]=maria\" --data-urlencode \"name[]=alejandro\"\n",
      "\u001b[1;39m[\n",
      "  \u001b[1;39m{\n",
      "    \u001b[0m\u001b[34;1m\"count\"\u001b[0m\u001b[1;39m: \u001b[0m\u001b[0;39m814\u001b[0m\u001b[1;39m,\n",
      "    \u001b[0m\u001b[34;1m\"name\"\u001b[0m\u001b[1;39m: \u001b[0m\u001b[0;32m\"lawson\"\u001b[0m\u001b[1;39m,\n",
      "    \u001b[0m\u001b[34;1m\"gender\"\u001b[0m\u001b[1;39m: \u001b[0m\u001b[0;32m\"male\"\u001b[0m\u001b[1;39m,\n",
      "    \u001b[0m\u001b[34;1m\"probability\"\u001b[0m\u001b[1;39m: \u001b[0m\u001b[0;39m0.88\u001b[0m\u001b[1;39m\n",
      "  \u001b[1;39m}\u001b[0m\u001b[1;39m,\n",
      "  \u001b[1;39m{\n",
      "    \u001b[0m\u001b[34;1m\"count\"\u001b[0m\u001b[1;39m: \u001b[0m\u001b[0;39m2687884\u001b[0m\u001b[1;39m,\n",
      "    \u001b[0m\u001b[34;1m\"name\"\u001b[0m\u001b[1;39m: \u001b[0m\u001b[0;32m\"maria\"\u001b[0m\u001b[1;39m,\n",
      "    \u001b[0m\u001b[34;1m\"gender\"\u001b[0m\u001b[1;39m: \u001b[0m\u001b[0;32m\"female\"\u001b[0m\u001b[1;39m,\n",
      "    \u001b[0m\u001b[34;1m\"probability\"\u001b[0m\u001b[1;39m: \u001b[0m\u001b[0;39m1\u001b[0m\u001b[1;39m\n",
      "  \u001b[1;39m}\u001b[0m\u001b[1;39m,\n",
      "  \u001b[1;39m{\n",
      "    \u001b[0m\u001b[34;1m\"count\"\u001b[0m\u001b[1;39m: \u001b[0m\u001b[0;39m386853\u001b[0m\u001b[1;39m,\n",
      "    \u001b[0m\u001b[34;1m\"name\"\u001b[0m\u001b[1;39m: \u001b[0m\u001b[0;32m\"alejandro\"\u001b[0m\u001b[1;39m,\n",
      "    \u001b[0m\u001b[34;1m\"gender\"\u001b[0m\u001b[1;39m: \u001b[0m\u001b[0;32m\"male\"\u001b[0m\u001b[1;39m,\n",
      "    \u001b[0m\u001b[34;1m\"probability\"\u001b[0m\u001b[1;39m: \u001b[0m\u001b[0;39m1\u001b[0m\u001b[1;39m\n",
      "  \u001b[1;39m}\u001b[0m\u001b[1;39m\n",
      "\u001b[1;39m]\u001b[0m\n"
     ]
    }
   ],
   "source": [
    "# Defining our arrays\n",
    "\n",
    "name_list=(\"yamen\" \"lawson\" \"maria\" \"alejandro\")\n",
    "country=(\"sy\" \"tg\" \"it\" \"es\")\n",
    "\n",
    "# Start building the curl command\n",
    "request=\"curl -s -G \\\"https://api.genderize.io?\\\"\"\n",
    "\n",
    "# Add each name to the curl command with --data-urlencode\n",
    "for name in \"${name_list[@]}\"\n",
    "do\n",
    "    request+=\" --data-urlencode \\\"name[]=${name}\\\"\"\n",
    "done\n",
    "\n",
    "# Check that the command is properly formed\n",
    "echo \"$request\"\n",
    "\n",
    "# Excute the command\n",
    "bash -c \"$request\" | jq"
   ]
  },
  {
   "cell_type": "markdown",
   "metadata": {},
   "source": [
    "### Automate name and country requests and CSV export\n",
    "\n",
    "We can create a loop that makes it possible to automate requests with both the name and country included.  \n",
    "We will process the returned json with jq to transform the results into tabular data."
   ]
  },
  {
   "cell_type": "code",
   "execution_count": 14,
   "metadata": {
    "vscode": {
     "languageId": "shellscript"
    }
   },
   "outputs": [
    {
     "name": "stdout",
     "output_type": "stream",
     "text": [
      "\u001b[0;32m\"\\\"yamen\\\",\\\"male\\\"\"\u001b[0m\n",
      "\u001b[0;32m\"\\\"lawson\\\",\\\"male\\\"\"\u001b[0m\n",
      "\u001b[0;32m\"\\\"maria\\\",\\\"female\\\"\"\u001b[0m\n",
      "\u001b[0;32m\"\\\"alejandro\\\",\\\"male\\\"\"\u001b[0m\n"
     ]
    }
   ],
   "source": [
    "# we declare our arrays\n",
    "name_list=(\"yamen\" \"lawson\" \"maria\" \"alejandro\")\n",
    "country=(\"sy\" \"tg\" \"it\" \"es\")\n",
    "\n",
    "# we count and store the number of values in our array to reuse it in the loop\n",
    "length=${#country[@]}\n",
    "\n",
    "# we loop through the arrays\n",
    "for ((i=0; i<length; i++))\n",
    "do\n",
    "    curl -s -G \"https://api.genderize.io/\" \\\n",
    "    --data-urlencode \"name=${name_list[$i]}\" \\\n",
    "    --data-urlencode \"country_id=${country[$i]}\" |\n",
    "    jq '[.name, .gender] | @csv'\n",
    "done"
   ]
  },
  {
   "cell_type": "markdown",
   "metadata": {},
   "source": [
    "## SerpAPI\n",
    "* **url**: https://serpapi.com/\n",
    "* **Purpose**: getting JSON formatted google results\n",
    "* **Constraints** 1000 free calls / day"
   ]
  },
  {
   "cell_type": "markdown",
   "metadata": {},
   "source": [
    "### Simple query filtered with jq\n",
    "\n",
    "Example of a basic query.  \n",
    "The jq filter helps with producing a smaller output as the original JSON takes a lot of space."
   ]
  },
  {
   "cell_type": "code",
   "execution_count": 8,
   "metadata": {
    "vscode": {
     "languageId": "shellscript"
    }
   },
   "outputs": [
    {
     "name": "stdout",
     "output_type": "stream",
     "text": [
      "\u001b[1;39m{\n",
      "  \u001b[0m\u001b[1;34m\"key\"\u001b[0m\u001b[1;39m: \u001b[0m\u001b[0;32m\"search_metadata\"\u001b[0m\u001b[1;39m,\n",
      "  \u001b[0m\u001b[1;34m\"type\"\u001b[0m\u001b[1;39m: \u001b[0m\u001b[0;32m\"object\"\u001b[0m\u001b[1;39m\n",
      "\u001b[1;39m}\u001b[0m\n",
      "\u001b[1;39m{\n",
      "  \u001b[0m\u001b[1;34m\"key\"\u001b[0m\u001b[1;39m: \u001b[0m\u001b[0;32m\"search_parameters\"\u001b[0m\u001b[1;39m,\n",
      "  \u001b[0m\u001b[1;34m\"type\"\u001b[0m\u001b[1;39m: \u001b[0m\u001b[0;32m\"object\"\u001b[0m\u001b[1;39m\n",
      "\u001b[1;39m}\u001b[0m\n",
      "\u001b[1;39m{\n",
      "  \u001b[0m\u001b[1;34m\"key\"\u001b[0m\u001b[1;39m: \u001b[0m\u001b[0;32m\"search_information\"\u001b[0m\u001b[1;39m,\n",
      "  \u001b[0m\u001b[1;34m\"type\"\u001b[0m\u001b[1;39m: \u001b[0m\u001b[0;32m\"object\"\u001b[0m\u001b[1;39m\n",
      "\u001b[1;39m}\u001b[0m\n",
      "\u001b[1;39m{\n",
      "  \u001b[0m\u001b[1;34m\"key\"\u001b[0m\u001b[1;39m: \u001b[0m\u001b[0;32m\"local_map\"\u001b[0m\u001b[1;39m,\n",
      "  \u001b[0m\u001b[1;34m\"type\"\u001b[0m\u001b[1;39m: \u001b[0m\u001b[0;32m\"object\"\u001b[0m\u001b[1;39m\n",
      "\u001b[1;39m}\u001b[0m\n",
      "\u001b[1;39m{\n",
      "  \u001b[0m\u001b[1;34m\"key\"\u001b[0m\u001b[1;39m: \u001b[0m\u001b[0;32m\"local_results\"\u001b[0m\u001b[1;39m,\n",
      "  \u001b[0m\u001b[1;34m\"type\"\u001b[0m\u001b[1;39m: \u001b[0m\u001b[0;32m\"object\"\u001b[0m\u001b[1;39m\n",
      "\u001b[1;39m}\u001b[0m\n"
     ]
    }
   ],
   "source": [
    "# the jq code includes only the first five entries and identify their top level objects.\n",
    "\n",
    "curl -s \"https://serpapi.com/search.json?q=Coffee&location=Austin,+Texas,+United+States&hl=en&gl=us&google_domain=google.com\" \\\n",
    "| jq 'to_entries[0:5] | .[] | {key: .key, type: (.value | type)}'\n"
   ]
  },
  {
   "cell_type": "markdown",
   "metadata": {},
   "source": [
    "### Filtered data and export to CSV"
   ]
  },
  {
   "cell_type": "code",
   "execution_count": 9,
   "metadata": {
    "vscode": {
     "languageId": "shellscript"
    }
   },
   "outputs": [
    {
     "name": "stdout",
     "output_type": "stream",
     "text": [
      "\u001b[0;32m\"\\\"Coffee\\\",\\\"https://en.wikipedia.org/wiki/Coffee\\\",\\\"Coffee is a beverage brewed from roasted coffee beans. Darkly colored, bitter, and slightly acidic, coffee has a stimulating effect on humans, primarily due ...\\\"\"\u001b[0m\n",
      "\u001b[0;32m\"\\\"What is Coffee?\\\",\\\"https://www.ncausa.org/About-Coffee/What-is-Coffee\\\",\\\"Coffee traces its origin to a genus of plants known as Coffea. Within the genus there are over 500 genera and 6,000 species of tropical trees and shrubs.\\\"\"\u001b[0m\n",
      "\u001b[0;32m\"\\\"Starbucks Coffee Company\\\",\\\"https://www.starbucks.com/\\\",\\\"More than just great coffee. Explore the menu, sign up for Starbucks® Rewards, manage your gift card and more.\\\"\"\u001b[0m\n",
      "\u001b[0;32m\"\\\"Coffee | Origin, Types, Uses, History, & Facts\\\",\\\"https://www.britannica.com/topic/coffee\\\",\\\"Coffee, beverage brewed from the roasted and ground seeds of the tropical evergreen coffee plant of African origin. Coffee is one of the ...\\\"\"\u001b[0m\n",
      "\u001b[0;32m\"\\\"Coffee | The Nutrition Source - hsph.harvard.edu\\\",\\\"https://www.hsph.harvard.edu/nutritionsource/food-features/coffee/\\\",\\\"Low to moderate doses of caffeine (50–300 mg) may cause increased alertness, energy, and ability to concentrate, while higher doses may have negative effects ...\\\"\"\u001b[0m\n",
      "\u001b[0;32m\"\\\"Coffee health benefits: Diabetes, heart health, liver cancer, ...\\\",\\\"https://www.medicalnewstoday.com/articles/270202\\\",\\\"In some cases, coffee may be good for health, as it may offer benefits such as lowering the risk of type 2 diabetes and helping people lose weight.\\\"\"\u001b[0m\n",
      "\u001b[0;32m\"\\\"Coffee - Walmart.com\\\",\\\"https://www.walmart.com/cp/coffee/1086446\\\",\\\"Shop for Coffee at Walmart.com. Buy Ground coffee, coffee pods, instant coffee, and whole bean coffee. Save money. Live better.\\\"\"\u001b[0m\n",
      "\u001b[0;32m\"\\\"9 Health Benefits of Coffee, Based on Science\\\",\\\"https://www.healthline.com/nutrition/top-evidence-based-health-benefits-of-coffee\\\",\\\"Coffee is a major source of antioxidants in the diet. It has many health benefits, such as improved brain function and a lower risk of ...\\\"\"\u001b[0m\n"
     ]
    }
   ],
   "source": [
    "#Same query, but with an explicity attribute filter and csv converstion with jq\n",
    "\n",
    "curl -s \"https://serpapi.com/search.json?q=Coffee&location=Austin,+Texas,+United+States&hl=en&gl=us&google_domain=google.com\" \\\n",
    "| jq '.organic_results[] | [.title,.link, .snippet] | @csv'"
   ]
  },
  {
   "cell_type": "markdown",
   "metadata": {
    "vscode": {
     "languageId": "shellscript"
    }
   },
   "source": [
    "## Country Info API\n",
    "\n",
    "* **main website**: https://countryinfoapi.com\n",
    "* **url**: https://countryinfoapi.com\n",
    "* **Purpose**: fetch additional info about a country/continent etc\n",
    "* **limitations:** \n",
    "\n"
   ]
  },
  {
   "cell_type": "code",
   "execution_count": 50,
   "metadata": {
    "vscode": {
     "languageId": "shellscript"
    }
   },
   "outputs": [
    {
     "name": "stdout",
     "output_type": "stream",
     "text": [
      "\u001b[0;32m\"\\\"France\\\",\\\"Europe\\\"\"\u001b[0m\n",
      "\u001b[0;32m\"\\\"Togo\\\",\\\"Africa\\\"\"\u001b[0m\n",
      "\u001b[0;32m\"\\\"Italy\\\",\\\"Europe\\\"\"\u001b[0m\n",
      "\u001b[0;32m\"\\\"Germany\\\",\\\"Europe\\\"\"\u001b[0m\n",
      "\u001b[0;32m\"\\\"Syria\\\",\\\"Asia\\\"\"\u001b[0m\n"
     ]
    }
   ],
   "source": [
    "countries=(\"France\" \"Togo\" \"Italy\" \"Germany\" \"Syria\")\n",
    "\n",
    "for i in ${countries[@]}\n",
    "do  \n",
    "    curl -s \"https://countryinfoapi.com/api/countries/name/$i\" | jq '[.name,.region] | @csv'\n",
    "done"
   ]
  },
  {
   "cell_type": "code",
   "execution_count": 37,
   "metadata": {
    "vscode": {
     "languageId": "shellscript"
    }
   },
   "outputs": [
    {
     "name": "stdout",
     "output_type": "stream",
     "text": [
      "Ivory+Coast\n"
     ]
    }
   ],
   "source": [
    "i=\"Ivory Coast\"\n",
    "clean=$(echo \"${i// /+}\")\n",
    "echo \"$clean\""
   ]
  },
  {
   "cell_type": "code",
   "execution_count": 39,
   "metadata": {
    "vscode": {
     "languageId": "shellscript"
    }
   },
   "outputs": [
    {
     "name": "stdout",
     "output_type": "stream",
     "text": [
      "France\n",
      "Togo\n",
      "Italy\n",
      "Germany\n",
      "Syria\n"
     ]
    }
   ],
   "source": [
    "for i in ${countries[@]}\n",
    "do echo \"$i\"\n",
    "done"
   ]
  },
  {
   "cell_type": "markdown",
   "metadata": {},
   "source": [
    "## Open Meteo API\n",
    "\n",
    "* **main website**: \n",
    "* **API docs**: \n",
    "* **Purpose:** \n",
    "* **Limitations:** "
   ]
  },
  {
   "cell_type": "markdown",
   "metadata": {},
   "source": [
    "## Healthsites.io API\n",
    "\n",
    "* **main website**: \n",
    "* **API docs**: \n",
    "* **Purpose:** \n",
    "* **Limitations:** "
   ]
  },
  {
   "cell_type": "markdown",
   "metadata": {},
   "source": [
    "# World Bank API\n",
    "by Alejandro Sainz-Pardo\n",
    "\n",
    "* **main website**: [World Bank API](https://documents.worldbank.org/en/publication/documents-reports/api) \n",
    "* **API docs**: All details on how to work with the API in the [link](https://documents.worldbank.org/en/publication/documents-reports/api)\n",
    "* **Purpose:** The World Bank offers an API that allows for the search and retrieval of the public, Bank documents available in the Documents & Reports site.  Records can be retrieved in a format useful for research and for inclusion in web sites outside of Documents & Reports and the World Bank. \n",
    "* **Limitations:** Imagination"
   ]
  },
  {
   "cell_type": "code",
   "execution_count": 8,
   "metadata": {
    "vscode": {
     "languageId": "shellscript"
    }
   },
   "outputs": [
    {
     "name": "stdout",
     "output_type": "stream",
     "text": [
      "{\"rows\":10,\"os\":0,\"page\":1,\"total\":546,\"documents\":{\"D11831032\":{\"id\":\"11831032\",\"count\":\"Mexico\",\"entityids\":{\"entityid\":\"000334955_20100222012800\"},\"docdt\":\"2006-04-24T00:00:00Z\",\"abstracts\":{\"cdata!\":\"The objective of the Wind Umbrella (La\\n            Venta II) Project aims to reduce greenhouse gases emissions\\n            from power generation in Mexico and promote investment in\\n            wind energy in Mexico to diversify the sources of power\\n            generation in the country. There two components to the\\n            projects. The first component of the project is purchase of\\n            carbon emissions reductions. Certified emissions reduction\\n            (CFE) uses a long-term power planning simulation model\\n            (DECADES) to select future power plants that are needed for\\n            the expansion of the country's electricity system. On\\n            the basis of such modeling results it is possible to compare\\n            alternative scenarios of new generation plants and estimate\\n            emissions with- and without the wind power plants in the\\n            long term. During the operational period the actual\\n            dispatching of energy generated from the wind power plant is\\n            controlled by the National Center for Energy Control\\n            (CENACE) and can be monitored in real time to record the\\n            amount of electricity produced from the plant and the\\n            equivalent avoided emissions for verification purposes. The\\n            second component of the project is wind energy power plant\\n            and interconnection line. Emissions reductions will be the\\n            result of CFE's wind energy project to be located in\\n            the ejido la Venta, municipality of Juchitan de Zaragoza, a\\n            region known as the Istmo de Tehuantepec, state of Oaxaca.\\n            CFE's wind energy project will use wind turbine\\n            generators that transform the kinetic energy of the wind to\\n            generate electricity.\"},\"display_title\":\"Mexico - Wind Umbrella (La Venta\\n            II) Project\",\"pdfurl\":\"http://documents.worldbank.org/curated/en/995361468056343658/pdf/529200PAD0P0801for0disclosure0final.pdf\",\"listing_relative_url\":\"/projects/documents/2006/04/11831032/mexico-wind-umbrella-la-venta-ii-project\",\"url_friendly_title\":\"http://documents.worldbank.org/curated/en/995361468056343658/Mexico-Wind-Umbrella-La-Venta-II-Project\",\"new_url\":\"2006/04/11831032/mexico-wind-umbrella-la-venta-ii-project\",\"guid\":\"995361468056343658\",\"url\":\"http://documents.worldbank.org/curated/en/995361468056343658/Mexico-Wind-Umbrella-La-Venta-II-Project\"},\"D29900830\":{\"id\":\"29900830\",\"count\":\"Zambia\",\"entityids\":{\"entityid\":\"090224b08608649a_3_0\"},\"docdt\":\"2018-05-01T00:00:00Z\",\"abstracts\":{\"cdata!\":\"The overall Zambia ESMAP program\\n            consists of providing a validated mesoscale wind atlas for\\n            Zambia, including associated deliverables and wind energy\\n            development training courses. Meteorological data is\\n            collected at eight sites over a 2-year period. This 12-month\\n            Site Resource Report provides interim wind resource\\n            statistics at the eight masts and energy production\\n            estimates for preliminary wind farms in the vicinity of the\\n            masts. The program’s goal is to provide Zambian policy\\n            makers, stakeholders and independent power producers with\\n            accurate and valuable knowledge of the national wind\\n            resource, including complementary tools, which can be of\\n            direct practical use, both for formulating energy policy and\\n            implementing wind projects.A key conclusion from this study\\n            is that there is now an established network of\\n            state-of-the-art wind measurement masts in Zambia that can\\n            be used to support stakeholder wind analysis activities and\\n            future utility-scale wind development in-country. In the\\n            future, this network of masts will also provide the industry\\n            with a source of long-term reference station data which\\n            could greatly reduce uncertainties for potential developers.\\n            The data collected from the eight met masts are considered\\n            very good both in terms of data quality and data coverage.\\n            The primary goal of the met masts was not to provide\\n            potential wind farm locations, but instead to validate a\\n            country-wide wind map. However, and as a secondary goal, it\\n            is noted that from this analysis, several met mast locations\\n            are sited in areas where wind development could be\\n            considered viable and potentially bankable with current\\n            turbine technology. Further investment by stakeholders in\\n            well-organized measurement campaigns and in feasibility\\n            analysis that are focused on reducing uncertainties will\\n            help support future growth of the Zambian wind market.\"},\"display_title\":\"Renewable energy wind mapping for\\n            Zambia : 12-month site resource report\",\"pdfurl\":\"http://documents.worldbank.org/curated/en/528711526549758961/pdf/Renewable-energy-wind-mapping-for-Zambia-12-month-site-resource-report.pdf\",\"listing_relative_url\":\"/research/2018/05/29900830/renewable-energy-wind-mapping-zambia-12-month-site-resource-report\",\"url_friendly_title\":\"http://documents.worldbank.org/curated/en/528711526549758961/Renewable-energy-wind-mapping-for-Zambia-12-month-site-resource-report\",\"new_url\":\"2018/05/29900830/renewable-energy-wind-mapping-zambia-12-month-site-resource-report\",\"guid\":\"528711526549758961\",\"url\":\"http://documents.worldbank.org/curated/en/528711526549758961/Renewable-energy-wind-mapping-for-Zambia-12-month-site-resource-report\"},\"D15615154\":{\"id\":\"15615154\",\"count\":\"Latin America\",\"entityids\":{\"entityid\":\"000386194_20120109010935\"},\"docdt\":\"2011-12-01T00:00:00Z\",\"abstracts\":{\"cdata!\":\"This report identifies good practices\\n            for managing the key environmental and social issues\\n            associated with wind power development and provides advice\\n            on how best to address these issues in project planning,\\n            construction, and operation and maintenance. It provides\\n            detailed background information on wind power, with special\\n            focus on two emerging themes of growing scientific and\\n            public interest: namely the biodiversity-related impacts and\\n            the broader socioeconomic and cultural dimensions of wind\\n            power development. Like wind power itself, the scope of this\\n            report is worldwide although special attention is paid to\\n            the issues characteristic of the Latin America and Caribbean\\n            (LAC) region. While the principal focus is on land-based\\n            wind power, it also briefly addresses the environmental and\\n            social impacts related to off shore wind development. Wind\\n            power today is widely regarded as a key component of an\\n            environmentally sustainable, low-carbon energy future\\n            because it is renewable, requires almost no water, and\\n            generates near-zero emissions of greenhouse gases and other\\n            pollutants. In many parts of the world, wind power has the\\n            potential to significantly reduce greenhouse gas (GHG)\\n            emissions from electric power generation, thereby helping to\\n            limit the severe environmental and social consequences of\\n            human-induced climate change. The growth of wind power has\\n            also occurred due to its other positive attributes,\\n            including growing economic competitiveness. The adverse\\n            biodiversity-related impacts of wind power facilities mainly\\n            involve birds, bats, and natural habitats.\"},\"display_title\":\"Greening the wind : environmental\\n            and social considerations for wind power development\",\"pdfurl\":\"http://documents.worldbank.org/curated/en/239851468089382658/pdf/662330PUB0EPI00e0wind09780821389263.pdf\",\"listing_relative_url\":\"/research/2011/12/15615154/greening-wind-environmental-social-considerations-wind-power-development\",\"url_friendly_title\":\"http://documents.worldbank.org/curated/en/239851468089382658/Greening-the-wind-environmental-and-social-considerations-for-wind-power-development\",\"new_url\":\"2012/01/15615154/greening-wind-environmental-social-considerations-wind-power-development\",\"guid\":\"239851468089382658\",\"url\":\"http://documents.worldbank.org/curated/en/239851468089382658/Greening-the-wind-environmental-and-social-considerations-for-wind-power-development\"},\"D19544300\":{\"id\":\"19544300\",\"count\":\"World\",\"entityids\":{\"entityid\":\"000333037_20140521124748\"},\"docdt\":\"2014-05-21T00:00:00Z\",\"abstracts\":{\"cdata!\":\"The kinetic energy in wind is converted\\n            into mechanical power in specialized propeller-driven\\n            turbines mounted on towers. A generator inside the turbine\\n            converts the mechanical power into electricity.\\n            Utility-scale wind turbines range in size from 100 kilowatts\\n            to as large as several megawatts. Turbines can be built on\\n            land or offshore and are grouped into 'wind farms'\\n            that provide bulk power to the electrical grid. Smaller\\n            turbines are used for homes, telecommunications dishes, and\\n            water pumping, sometimes in connection with diesel\\n            generators, batteries, and photovoltaic systems. Such hybrid\\n            wind systems are typically used in remote, off-grid\\n            locations, where a connection to the utility grid is not\\n            available. This note focuses on onshore wind energy, which\\n            is more widely established and has lower risks than offshore wind.\"},\"display_title\":\"Implementing onshore wind power projects\",\"pdfurl\":\"http://documents.worldbank.org/curated/en/556561468337209595/pdf/881840BRI0Live00Box385205B00PUBLIC0.pdf\",\"listing_relative_url\":\"/research/2014/05/19544300/implementing-onshore-wind-power-projects\",\"url_friendly_title\":\"http://documents.worldbank.org/curated/en/556561468337209595/Implementing-onshore-wind-power-projects\",\"new_url\":\"2014/03/19544300/implementing-onshore-wind-power-projects\",\"guid\":\"556561468337209595\",\"url\":\"http://documents.worldbank.org/curated/en/556561468337209595/Implementing-onshore-wind-power-projects\"},\"D31211834\":{\"id\":\"31211834\",\"count\":\"Maldives\",\"entityids\":{\"entityid\":\"090224b086e466ac_1_0\"},\"docdt\":\"2018-10-01T00:00:00Z\",\"abstracts\":{\"cdata!\":\"This report presents a description of\\n            the project sites and indicative turbine technology\\n            considered. It then describes the available measurements and\\n            analysis of the wind data. This is followed by an evaluation\\n            of the expected project gross and net energy for a wind\\n            turbine near the measurement locations, as influenced by\\n            assumed losses and uncertainties. It then provides an\\n            overview of the extreme winds and turbulence expected at the\\n            sites. Finally, it presents DNV GL’s observations and recommendations.\"},\"display_title\":\"Wind Resource Mapping in Maldives\\n            : 12 Month Site Resource Report\",\"pdfurl\":\"http://documents.worldbank.org/curated/en/271161564037906304/pdf/Wind-Resource-Mapping-in-Maldives-12-Month-Site-Resource-Report.pdf\",\"listing_relative_url\":\"/research/2018/10/31211834/wind-resource-mapping-maldives-12-month-site-resource-report\",\"url_friendly_title\":\"http://documents.worldbank.org/curated/en/271161564037906304/Wind-Resource-Mapping-in-Maldives-12-Month-Site-Resource-Report\",\"new_url\":\"2018/10/31211834/wind-resource-mapping-maldives-12-month-site-resource-report\",\"guid\":\"271161564037906304\",\"url\":\"http://documents.worldbank.org/curated/en/271161564037906304/Wind-Resource-Mapping-in-Maldives-12-Month-Site-Resource-Report\"},\"D19030958\":{\"id\":\"19030958\",\"count\":\"Yemen, Republic of\",\"entityids\":{\"entityid\":\"000442464_20140220094225\"},\"docdt\":\"2014-02-11T00:00:00Z\",\"abstracts\":{\"cdata!\":\"The development objective of the Mocha\\n            Wind Park Project for Yemen is to increase the supply of\\n            cost-effective renewable wind electricity. The project has\\n            two components. The first component physical investment will\\n            support the construction of a wind farm at Mocha of\\n            approximately 60 megawatt (MW) generation capacity. This\\n            component will initially be implemented by a project\\n            management unit (PMU) established under the Ministry of\\n            Electricity and Energy (MOEE). The second component\\n            consulting services and market development consists of the\\n            following sub-components: (i) an international engineering\\n            consulting firm employed to assist the PMU in the\\n            procurement and contracting of the supply and installation\\n            contractor and in the construction supervision of the\\n            project throughout the construction phase and the initial\\n            operation stage; (ii) an international consulting firm\\n            employed to assist MOEE to design tendering procedures and\\n            documents for competitive procurement of private-public\\n            partnership (PPP) wind projects and to assist MOEE with the\\n            tendering process; (iii) advisory service for special\\n            purpose company (SPC) which will operate commercially with\\n            clear contractual arrangement with the electricity\\n            off-taker; (iv) advisory service and instruments for the\\n            implementation of regional long-term wind measurement\\n            program in three to five wind development zones; (v)\\n            consulting service for preliminary environmental and social\\n            impact assessments, grid connection planning for promising\\n            wind sites; and (vi) other consulting services as needed and\\n            capacity building activities, including external audit fees.\"},\"display_title\":\"Yemen - Mocha Wind Park Project\",\"pdfurl\":\"http://documents.worldbank.org/curated/en/156751468335513164/pdf/PAD6510P146055010Box382145B00OUO090.pdf\",\"listing_relative_url\":\"/projects/documents/2014/02/19030958/yemen-mocha-wind-park-project\",\"url_friendly_title\":\"http://documents.worldbank.org/curated/en/156751468335513164/Yemen-Mocha-Wind-Park-Project\",\"new_url\":\"2014/02/19030958/yemen-mocha-wind-park-project\",\"guid\":\"156751468335513164\",\"url\":\"http://documents.worldbank.org/curated/en/156751468335513164/Yemen-Mocha-Wind-Park-Project\"},\"D31211780\":{\"id\":\"31211780\",\"count\":\"Maldives\",\"entityids\":{\"entityid\":\"090224b086e466ae_1_0\"},\"docdt\":\"2019-06-28T00:00:00Z\",\"abstracts\":{\"cdata!\":\"The World Bank (the ‘Customer’) retained\\n            Garrad Hassan America, Inc. (DNV GL) to complete a 24-month\\n            Site Resource Report, which consists of an independent\\n            analysis of the wind regime and energy production at two\\n            locations in the Maldives, as part of the Wind Resource\\n            Assessment and Mapping in the Maldives project. The results\\n            of the work are reported here. The project is primarily\\n            funded by the Energy Sector Management Assistance Program\\n            (ESMAP). The overall objective consists of providing a\\n            validated mesoscale wind atlas for the Maldives, including\\n            associated datasets. This aims to provide policy makers in\\n            the Maldives and other stakeholders with accurate and\\n            valuable knowledge of the national wind resource, including\\n            complementary tools, which can be of direct practical use,\\n            both for formulating energy policy and implementing wind\\n            projects. This report presents a description of the project\\n            sites and indicative turbine technology considered. It then\\n            describes the available measurements and analysis of the\\n            wind data. This is followed by an evaluation of the expected\\n            project gross and net energy for a wind turbine in the\\n            vicinity of the measurement locations, as influenced by\\n            assumed losses and uncertainties. It then provides an\\n            overview of the extreme winds and turbulence expected at the\\n            sites. Finally, it presents DNV GL’s observations and recommendations.\"},\"display_title\":\"Wind Resource Mapping in Maldives\\n            : 24 Month Site Resource Report\",\"pdfurl\":\"http://documents.worldbank.org/curated/en/669001564037551160/pdf/Wind-Resource-Mapping-in-Maldives-24-Month-Site-Resource-Report.pdf\",\"listing_relative_url\":\"/research/2019/06/31211780/wind-resource-mapping-maldives-24-month-site-resource-report\",\"url_friendly_title\":\"http://documents.worldbank.org/curated/en/669001564037551160/Wind-Resource-Mapping-in-Maldives-24-Month-Site-Resource-Report\",\"new_url\":\"2019/06/31211780/wind-resource-mapping-maldives-24-month-site-resource-report\",\"guid\":\"669001564037551160\",\"url\":\"http://documents.worldbank.org/curated/en/669001564037551160/Wind-Resource-Mapping-in-Maldives-24-Month-Site-Resource-Report\"},\"D26951778\":{\"id\":\"26951778\",\"count\":\"World\",\"entityids\":{\"entityid\":\"090224b084710367_1_0\"},\"docdt\":\"2015-08-07T00:00:00Z\",\"abstracts\":{\"cdata!\":\"The environmental, health, and safety\\n            (EHS) guidelines are technical reference documents with\\n            general and industry-specific examples of good international\\n            industry practice (GIIP). When one or more members of the\\n            World Bank Group are involved in a project, these EHS\\n            guidelines are applied as required by their respective\\n            policies and standards. The EHS guidelines contain the\\n            performance levels and measures that are generally\\n            considered to be achievable in new facilities by existing\\n            technology at reasonable costs. The EHS guidelines for wind\\n            energy include information relevant to environmental,\\n            health, and safety aspects of onshore and offshore wind\\n            energy facilities. It should be applied to wind energy\\n            facilities from the earliest feasibility assessments, as\\n            well as from the time of the environmental impact\\n            assessment, and continue to be applied throughout the\\n            construction and operational phases. This document is\\n            organized in the following manner: section one presents\\n            industry-specific impacts and management; section two\\n            presents performance indicators monitoring; and section\\n            three presents references.\"},\"display_title\":\"Environmental, health, and safety\\n            guidelines for wind energy\",\"pdfurl\":\"http://documents.worldbank.org/curated/en/498831479463882556/pdf/110346-WP-FINAL-Aug-2015-Wind-Energy-EHS-Guideline-PUBLIC.pdf\",\"listing_relative_url\":\"/research/2015/08/26951778/environmental-health-safety-guidelines-wind-energy\",\"url_friendly_title\":\"http://documents.worldbank.org/curated/en/498831479463882556/Environmental-health-and-safety-guidelines-for-wind-energy\",\"new_url\":\"2017/05/26951778/environmental-health-safety-guidelines-wind-energy\",\"guid\":\"498831479463882556\",\"url\":\"http://documents.worldbank.org/curated/en/498831479463882556/Environmental-health-and-safety-guidelines-for-wind-energy\"},\"D5704111\":{\"id\":\"5704111\",\"count\":\"East Asia and Pacific\",\"entityids\":{\"entityid\":\"000090341_20050401090154\"},\"docdt\":\"2000-01-01T00:00:00Z\",\"abstracts\":{\"cdata!\":\"This paper presents the results of a\\n            statistical analysis of wind farm costs and prices based on\\n            a database of published worldwide wind farm costs. While\\n            past studies have demonstrated general learning curve\\n            effects, these do not identify the individual contributions\\n            of technological innovation, scale economies of project\\n            size, scale economies of machine and order size, as a\\n            function of the policy regime. While recognizing the\\n            problems with published data, we show that in the\\n            competitive policy regimes of the UK, USA and Australia, the\\n            data are consistent with a classical economic theory:\\n            learning curve, scale economies of project size, turbine\\n            size, and turbine order explain 81 percent of the variation\\n            of reported project costs. By contrast, the German project\\n            cost data, and the set of data from the rest of the world,\\n            reveal no statistically significant relationship between\\n            these factors and reported project costs. However, published\\n            German turbine list prices do reveal learning curve, turbine\\n            size, and turbine order size economies, though the\\n            explanatory power of the model is lower (R2=0.61). The\\n            results demonstrate that only in competitive policy regimes\\n            are the benefits of learning curve and scale economies\\n            passed to the consumer; while in Feed-in Law regimes\\n            (Germany, Spain) the principal beneficiary is the developer.\"},\"display_title\":\"Statistical analysis of wind farm\\n            costs and policy regimes\",\"listing_relative_url\":\"/research/2000/01/5704111/statistical-analysis-wind-farm-costs-policy-regimes\",\"url_friendly_title\":\"http://documents.worldbank.org/curated/en/460141468748770824/Statistical-analysis-of-wind-farm-costs-and-policy-regimes\",\"new_url\":\"2000/01/5704111/statistical-analysis-wind-farm-costs-policy-regimes\",\"guid\":\"460141468748770824\",\"url\":\"http://documents.worldbank.org/curated/en/460141468748770824/Statistical-analysis-of-wind-farm-costs-and-policy-regimes\"},\"D698043\":{\"id\":\"698043\",\"count\":\"Costa Rica\",\"entityids\":{\"entityid\":\"000009265_3961219144813\"},\"docdt\":\"1994-09-30T00:00:00Z\",\"abstracts\":{\"cdata!\":\"The overall objectives of the Tejona\\n            Wind Power Project is to improve the environment by reducing\\n            the consumption of fossil fuels for energy production.  This\\n            objective will be achieved through realization of several\\n            additional objectives, including: a) demonstration of wind\\n            energy technology in the high-wind and heavy precipitation\\n            environment experienced in Costa Rica and other Central\\n            American sites; b) familiarization of a major regional\\n            utility with how the wind energy will integrate into their\\n            generation system; and c) familiarization of a major\\n            regional utility with the operation and maintenance of a\\n            wind power plant.  The project will co-finance a 20 MW wind\\n            power plant in the Guanacaste Province of Costa Rica and as\\n            such the components are: a) engineering and administration;\\n            b) direct construction cost; c) miscellaneous costs; and d)\\n            construction financing costs.\"},\"display_title\":\"Costa Rica - Tejona Wind Power Project\",\"listing_relative_url\":\"/projects/documents/1994/09/698043/costa-rica-tejona-wind-power-project\",\"url_friendly_title\":\"http://documents.worldbank.org/curated/en/346281468746791257/Costa-Rica-Tejona-Wind-Power-Project\",\"new_url\":\"1994/09/698043/costa-rica-tejona-wind-power-project\",\"guid\":\"346281468746791257\",\"url\":\"http://documents.worldbank.org/curated/en/346281468746791257/Costa-Rica-Tejona-Wind-Power-Project\"},\"facets\":{}}}"
     ]
    }
   ],
   "source": [
    "#What follows is a simple request querying for records of documents related to wind turbines.  It also requests that the list returned be in a JSON format and\n",
    "# that the country and document date be returned with each record.  (Other key, record fields, like display title and URL, are always returned):\n",
    "\n",
    "#Bash\n",
    "\n",
    "#curl -s \"https://search.worldbank.org/api/v2/wds?format=json&qterm=wind%20turbine&fl=docdt,count,country\"\n",
    "\n",
    "#Python\n",
    "\n",
    "!curl -s \"https://search.worldbank.org/api/v2/wds?format=json&qterm=wind%20turbine&fl=docdt,count,country\"\n",
    "\n",
    "\n"
   ]
  }
 ],
 "metadata": {
  "kernelspec": {
   "display_name": ".venv",
   "language": "python",
   "name": "python3"
  },
  "language_info": {
   "codemirror_mode": {
    "name": "ipython",
    "version": 3
   },
   "file_extension": ".py",
   "mimetype": "text/x-python",
   "name": "python",
   "nbconvert_exporter": "python",
   "pygments_lexer": "ipython3",
   "version": "3.10.13"
  }
 },
 "nbformat": 4,
 "nbformat_minor": 2
}
