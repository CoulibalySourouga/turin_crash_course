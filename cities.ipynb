{
 "cells": [
  {
   "cell_type": "markdown",
   "metadata": {},
   "source": [
    "# Test of a loop over an array"
   ]
  },
  {
   "cell_type": "code",
   "execution_count": 2,
   "metadata": {
    "vscode": {
     "languageId": "shellscript"
    }
   },
   "outputs": [
    {
     "name": "stdout",
     "output_type": "stream",
     "text": [
      "Bergen,Norway Paris,France Turin,Italy Bordeaux,France Accra,Ghana\n"
     ]
    }
   ],
   "source": [
    "# assigning the values of the array to the variable cities_array\n",
    "cities_array=(Bergen,Norway Paris,France Turin,Italy Bordeaux,France Accra,Ghana)\n",
    "# check the array has been assigned properly\n",
    "echo \"${cities_array[@]}\""
   ]
  },
  {
   "cell_type": "code",
   "execution_count": 2,
   "metadata": {
    "vscode": {
     "languageId": "shellscript"
    }
   },
   "outputs": [
    {
     "name": "stdout",
     "output_type": "stream",
     "text": [
      "Bergen,Norway\n",
      "Paris,France\n",
      "Turin,Italy\n",
      "Bordeaux,France\n",
      "Accra,Ghana\n"
     ]
    }
   ],
   "source": [
    "# create a loop that iterates over cities_array and print it\n",
    "for x in ${cities_array[@]}\n",
    "do \n",
    "    echo \"$x\"\n",
    "done"
   ]
  },
  {
   "cell_type": "code",
   "execution_count": 3,
   "metadata": {
    "vscode": {
     "languageId": "shellscript"
    }
   },
   "outputs": [],
   "source": [
    "echo \"Bergen,Norway\" > cities2.csv\n",
    "echo \"Paris,France\" >> cities2.csv\n",
    "echo \"Turin,Italy\" >> cities2.csv\n",
    "echo \"Bordeaux,France\" >> cities2.csv\n",
    "echo \"Accra,Ghana\" >> cities2.csv"
   ]
  },
  {
   "cell_type": "code",
   "execution_count": 4,
   "metadata": {
    "vscode": {
     "languageId": "shellscript"
    }
   },
   "outputs": [
    {
     "name": "stdout",
     "output_type": "stream",
     "text": [
      "Bergen,Norway\n",
      "Paris,France\n",
      "Turin,Italy\n",
      "Bordeaux,France\n",
      "Accra,Ghana\n"
     ]
    }
   ],
   "source": [
    "cat cities2.csv"
   ]
  },
  {
   "cell_type": "code",
   "execution_count": 7,
   "metadata": {
    "vscode": {
     "languageId": "shellscript"
    }
   },
   "outputs": [
    {
     "name": "stdout",
     "output_type": "stream",
     "text": [
      "Accra,Ghana\n",
      "Bergen,Norway\n",
      "Paris,France\n",
      "Turin,Italy\n",
      "Bordeaux,France\n",
      "Accra,Ghana\n"
     ]
    }
   ],
   "source": [
    "for i in ${cities_array[@]};do echo \"$i\" >> cities3.csv; done\n",
    "cat cities3.csv"
   ]
  },
  {
   "cell_type": "code",
   "execution_count": 29,
   "metadata": {
    "vscode": {
     "languageId": "shellscript"
    }
   },
   "outputs": [
    {
     "name": "stdout",
     "output_type": "stream",
     "text": [
      "The student comes from Accra,Ghana\n",
      "The student comes from Bergen,Norway\n",
      "The student comes from Paris,France\n",
      "The student comes from Turin,Italy\n",
      "The student comes from Bordeaux,France\n",
      "The student comes from Accra,Ghana\n",
      "The student comes from New York,USA\n"
     ]
    }
   ],
   "source": [
    "while read line \n",
    "do\n",
    "    echo \"The student comes from $line\"\n",
    "done < cities3.csv "
   ]
  },
  {
   "cell_type": "code",
   "execution_count": 33,
   "metadata": {
    "vscode": {
     "languageId": "shellscript"
    }
   },
   "outputs": [
    {
     "name": "stdout",
     "output_type": "stream",
     "text": [
      "The student comes from @ccra,Ghana\n",
      "The student comes from Bergen,Norway\n",
      "The student comes from Paris,France\n",
      "The student comes from Turin,Italy\n",
      "The student comes from Bordeaux,France\n",
      "The student comes from @ccra,Ghana\n",
      "The student comes from New York,US@\n"
     ]
    }
   ],
   "source": [
    "while read line \n",
    "do\n",
    "    echo \"The student comes from ${line//A/@}\"\n",
    "done < cities3.csv "
   ]
  },
  {
   "cell_type": "code",
   "execution_count": 25,
   "metadata": {
    "vscode": {
     "languageId": "shellscript"
    }
   },
   "outputs": [
    {
     "name": "stdout",
     "output_type": "stream",
     "text": [
      "\u001b[1;39m{\n",
      "  \u001b[0m\u001b[34;1m\"place_id\"\u001b[0m\u001b[1;39m: \u001b[0m\u001b[0;39m252059258\u001b[0m\u001b[1;39m,\n",
      "  \u001b[0m\u001b[34;1m\"licence\"\u001b[0m\u001b[1;39m: \u001b[0m\u001b[0;32m\"Data © OpenStreetMap contributors, ODbL 1.0. http://osm.org/copyright\"\u001b[0m\u001b[1;39m,\n",
      "  \u001b[0m\u001b[34;1m\"osm_type\"\u001b[0m\u001b[1;39m: \u001b[0m\u001b[0;32m\"relation\"\u001b[0m\u001b[1;39m,\n",
      "  \u001b[0m\u001b[34;1m\"osm_id\"\u001b[0m\u001b[1;39m: \u001b[0m\u001b[0;39m105270\u001b[0m\u001b[1;39m,\n",
      "  \u001b[0m\u001b[34;1m\"lat\"\u001b[0m\u001b[1;39m: \u001b[0m\u001b[0;32m\"44.841225\"\u001b[0m\u001b[1;39m,\n",
      "  \u001b[0m\u001b[34;1m\"lon\"\u001b[0m\u001b[1;39m: \u001b[0m\u001b[0;32m\"-0.5800364\"\u001b[0m\u001b[1;39m,\n",
      "  \u001b[0m\u001b[34;1m\"class\"\u001b[0m\u001b[1;39m: \u001b[0m\u001b[0;32m\"boundary\"\u001b[0m\u001b[1;39m,\n",
      "  \u001b[0m\u001b[34;1m\"type\"\u001b[0m\u001b[1;39m: \u001b[0m\u001b[0;32m\"administrative\"\u001b[0m\u001b[1;39m,\n",
      "  \u001b[0m\u001b[34;1m\"place_rank\"\u001b[0m\u001b[1;39m: \u001b[0m\u001b[0;39m16\u001b[0m\u001b[1;39m,\n",
      "  \u001b[0m\u001b[34;1m\"importance\"\u001b[0m\u001b[1;39m: \u001b[0m\u001b[0;39m0.6740050666982947\u001b[0m\u001b[1;39m,\n",
      "  \u001b[0m\u001b[34;1m\"addresstype\"\u001b[0m\u001b[1;39m: \u001b[0m\u001b[0;32m\"city\"\u001b[0m\u001b[1;39m,\n",
      "  \u001b[0m\u001b[34;1m\"name\"\u001b[0m\u001b[1;39m: \u001b[0m\u001b[0;32m\"Bordeaux\"\u001b[0m\u001b[1;39m,\n",
      "  \u001b[0m\u001b[34;1m\"display_name\"\u001b[0m\u001b[1;39m: \u001b[0m\u001b[0;32m\"Bordeaux, Gironde, Nouvelle-Aquitaine, France métropolitaine, France\"\u001b[0m\u001b[1;39m,\n",
      "  \u001b[0m\u001b[34;1m\"boundingbox\"\u001b[0m\u001b[1;39m: \u001b[0m\u001b[1;39m[\n",
      "    \u001b[0;32m\"44.8107826\"\u001b[0m\u001b[1;39m,\n",
      "    \u001b[0;32m\"44.9161806\"\u001b[0m\u001b[1;39m,\n",
      "    \u001b[0;32m\"-0.6386987\"\u001b[0m\u001b[1;39m,\n",
      "    \u001b[0;32m\"-0.5336838\"\u001b[0m\u001b[1;39m\n",
      "  \u001b[1;39m]\u001b[0m\u001b[1;39m\n",
      "\u001b[1;39m}\u001b[0m\n",
      "\u001b[1;39m{\n",
      "  \u001b[0m\u001b[34;1m\"place_id\"\u001b[0m\u001b[1;39m: \u001b[0m\u001b[0;39m250563408\u001b[0m\u001b[1;39m,\n",
      "  \u001b[0m\u001b[34;1m\"licence\"\u001b[0m\u001b[1;39m: \u001b[0m\u001b[0;32m\"Data © OpenStreetMap contributors, ODbL 1.0. http://osm.org/copyright\"\u001b[0m\u001b[1;39m,\n",
      "  \u001b[0m\u001b[34;1m\"osm_type\"\u001b[0m\u001b[1;39m: \u001b[0m\u001b[0;32m\"relation\"\u001b[0m\u001b[1;39m,\n",
      "  \u001b[0m\u001b[34;1m\"osm_id\"\u001b[0m\u001b[1;39m: \u001b[0m\u001b[0;39m1667452\u001b[0m\u001b[1;39m,\n",
      "  \u001b[0m\u001b[34;1m\"lat\"\u001b[0m\u001b[1;39m: \u001b[0m\u001b[0;32m\"44.79384015\"\u001b[0m\u001b[1;39m,\n",
      "  \u001b[0m\u001b[34;1m\"lon\"\u001b[0m\u001b[1;39m: \u001b[0m\u001b[0;32m\"-0.6063085906819762\"\u001b[0m\u001b[1;39m,\n",
      "  \u001b[0m\u001b[34;1m\"class\"\u001b[0m\u001b[1;39m: \u001b[0m\u001b[0;32m\"boundary\"\u001b[0m\u001b[1;39m,\n",
      "  \u001b[0m\u001b[34;1m\"type\"\u001b[0m\u001b[1;39m: \u001b[0m\u001b[0;32m\"administrative\"\u001b[0m\u001b[1;39m,\n",
      "  \u001b[0m\u001b[34;1m\"place_rank\"\u001b[0m\u001b[1;39m: \u001b[0m\u001b[0;39m14\u001b[0m\u001b[1;39m,\n",
      "  \u001b[0m\u001b[34;1m\"importance\"\u001b[0m\u001b[1;39m: \u001b[0m\u001b[0;39m0.3362245296868723\u001b[0m\u001b[1;39m,\n",
      "  \u001b[0m\u001b[34;1m\"addresstype\"\u001b[0m\u001b[1;39m: \u001b[0m\u001b[0;32m\"municipality\"\u001b[0m\u001b[1;39m,\n",
      "  \u001b[0m\u001b[34;1m\"name\"\u001b[0m\u001b[1;39m: \u001b[0m\u001b[0;32m\"Bordeaux\"\u001b[0m\u001b[1;39m,\n",
      "  \u001b[0m\u001b[34;1m\"display_name\"\u001b[0m\u001b[1;39m: \u001b[0m\u001b[0;32m\"Bordeaux, Gironde, Nouvelle-Aquitaine, France métropolitaine, France\"\u001b[0m\u001b[1;39m,\n",
      "  \u001b[0m\u001b[34;1m\"boundingbox\"\u001b[0m\u001b[1;39m: \u001b[0m\u001b[1;39m[\n",
      "    \u001b[0;32m\"44.5463125\"\u001b[0m\u001b[1;39m,\n",
      "    \u001b[0;32m\"45.0413552\"\u001b[0m\u001b[1;39m,\n",
      "    \u001b[0;32m\"-0.9049215\"\u001b[0m\u001b[1;39m,\n",
      "    \u001b[0;32m\"-0.2415648\"\u001b[0m\u001b[1;39m\n",
      "  \u001b[1;39m]\u001b[0m\u001b[1;39m\n",
      "\u001b[1;39m}\u001b[0m\n"
     ]
    }
   ],
   "source": [
    "curl -s \"https://nominatim.openstreetmap.org/search?q=Bordeaux,France&format=json\" | jq '.[]'"
   ]
  },
  {
   "cell_type": "code",
   "execution_count": 13,
   "metadata": {
    "vscode": {
     "languageId": "shellscript"
    }
   },
   "outputs": [
    {
     "name": "stdout",
     "output_type": "stream",
     "text": [
      "\u001b[0;32m\"\\\"44.841225\\\",\\\"-0.5800364\\\",\\\"city\\\"\"\u001b[0m\n",
      "\u001b[0;32m\"\\\"44.79384015\\\",\\\"-0.6063085906819762\\\",\\\"municipality\\\"\"\u001b[0m\n"
     ]
    }
   ],
   "source": [
    "curl -s \"https://nominatim.openstreetmap.org/search?q=Bordeaux,France&format=json\" | jq '.[] | [.lat, .lon, .addresstype] | @csv'"
   ]
  },
  {
   "cell_type": "code",
   "execution_count": 20,
   "metadata": {
    "vscode": {
     "languageId": "shellscript"
    }
   },
   "outputs": [
    {
     "name": "stdout",
     "output_type": "stream",
     "text": [
      "\u001b[0;32m\"\\\"44.841225\\\",\\\"-0.5800364\\\",\\\"city\\\"\"\u001b[0m\n",
      "\u001b[0;32m\"\\\"44.79384015\\\",\\\"-0.6063085906819762\\\",\\\"municipality\\\"\"\u001b[0m\n"
     ]
    }
   ],
   "source": [
    "line=\"Bordeaux,France\"\n",
    "curl -s \"https://nominatim.openstreetmap.org/search?q=${line}&format=json\" | jq '.[] | [.lat, .lon, .addresstype] | @csv'"
   ]
  },
  {
   "cell_type": "code",
   "execution_count": 5,
   "metadata": {
    "vscode": {
     "languageId": "shellscript"
    }
   },
   "outputs": [],
   "source": [
    "echo \"lat,lon,type,name\" > cities4.csv\n",
    "while read line \n",
    "do\n",
    "    result=$(curl -s \"https://nominatim.openstreetmap.org/search?q=${line// /+}&format=json\" | jq '.[] | [.lat, .lon, .addresstype, .name] | @csv')\n",
    "    result2=$(echo \"${result//\\\"/}\")\n",
    "    echo \"${result2//\\\\/}\"\n",
    "done < cities3.csv >> cities4.csv\n"
   ]
  },
  {
   "cell_type": "code",
   "execution_count": null,
   "metadata": {
    "vscode": {
     "languageId": "shellscript"
    }
   },
   "outputs": [],
   "source": []
  },
  {
   "cell_type": "code",
   "execution_count": 22,
   "metadata": {
    "vscode": {
     "languageId": "shellscript"
    }
   },
   "outputs": [
    {
     "name": "stdout",
     "output_type": "stream",
     "text": [
      "\"\\\"5.5571096\\\",\\\"-0.2012376\\\",\\\"city\\\"\"\n",
      "\"\\\"60.3943055\\\",\\\"5.3259192\\\",\\\"municipality\\\"\"\n",
      "\"\\\"48.8534951\\\",\\\"2.3483915\\\",\\\"city\\\"\"\n",
      "\"\\\"48.8588897\\\",\\\"2.3200410217200766\\\",\\\"suburb\\\"\"\n",
      "\"\\\"48.8588897\\\",\\\"2.3200410217200766\\\",\\\"city_district\\\"\"\n",
      "\"\\\"45.0677551\\\",\\\"7.6824892\\\",\\\"city\\\"\"\n",
      "\"\\\"45.15803915\\\",\\\"7.512363054694468\\\",\\\"county\\\"\"\n",
      "\"\\\"44.841225\\\",\\\"-0.5800364\\\",\\\"city\\\"\"\n",
      "\"\\\"44.79384015\\\",\\\"-0.6063085906819762\\\",\\\"municipality\\\"\"\n",
      "\"\\\"5.5571096\\\",\\\"-0.2012376\\\",\\\"city\\\"\"\n",
      "\"\\\"5.5571096\\\",\\\"-0.2012376\\\",\\\"city\\\"\"\n",
      "\"\\\"60.3943055\\\",\\\"5.3259192\\\",\\\"municipality\\\"\"\n",
      "\"\\\"48.8588897\\\",\\\"2.3200410217200766\\\",\\\"suburb\\\"\"\n",
      "\"\\\"48.8534951\\\",\\\"2.3483915\\\",\\\"city\\\"\"\n",
      "\"\\\"48.8588897\\\",\\\"2.3200410217200766\\\",\\\"city_district\\\"\"\n",
      "\"\\\"45.0677551\\\",\\\"7.6824892\\\",\\\"city\\\"\"\n",
      "\"\\\"45.15803915\\\",\\\"7.512363054694468\\\",\\\"county\\\"\"\n",
      "\"\\\"44.841225\\\",\\\"-0.5800364\\\",\\\"city\\\"\"\n",
      "\"\\\"44.79384015\\\",\\\"-0.6063085906819762\\\",\\\"municipality\\\"\"\n",
      "\"\\\"5.5571096\\\",\\\"-0.2012376\\\",\\\"city\\\"\"\n"
     ]
    }
   ],
   "source": [
    "cat cities4.csv"
   ]
  },
  {
   "cell_type": "code",
   "execution_count": null,
   "metadata": {
    "vscode": {
     "languageId": "shellscript"
    }
   },
   "outputs": [],
   "source": []
  },
  {
   "cell_type": "code",
   "execution_count": null,
   "metadata": {
    "vscode": {
     "languageId": "shellscript"
    }
   },
   "outputs": [],
   "source": []
  }
 ],
 "metadata": {
  "kernelspec": {
   "display_name": "Bash",
   "language": "bash",
   "name": "bash"
  },
  "language_info": {
   "codemirror_mode": "shell",
   "file_extension": ".sh",
   "mimetype": "text/x-sh",
   "name": "bash"
  }
 },
 "nbformat": 4,
 "nbformat_minor": 2
}
